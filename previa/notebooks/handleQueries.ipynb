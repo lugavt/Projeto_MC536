{
 "cells": [
  {
   "cell_type": "code",
   "execution_count": 1,
   "id": "37061408",
   "metadata": {},
   "outputs": [],
   "source": [
    "%defaultDatasource jdbc:h2:mem:db"
   ]
  },
  {
   "cell_type": "code",
   "execution_count": 98,
   "id": "1123ada1",
   "metadata": {},
   "outputs": [],
   "source": [
    "DROP Table IF EXISTS DADOSMALARIA;\n",
    "DROP Table IF EXISTS DADOSSUICIDIO;\n",
    "DROP Table IF EXISTS TOPIDHSUICIDE;\n",
    "DROP Table IF EXISTS MOZAMBIQUEDATA;\n",
    "DROP Table IF EXISTS TOP20IDH;\n",
    "DROP Table IF EXISTS TOPIDHSUICIDE;\n",
    "DROP Table IF EXISTS TOPIDH;\n",
    "DROP Table IF EXISTS VARIACAOIDH;\n",
    "DROP Table IF EXISTS IDH2016;\n",
    "DROP Table IF EXISTS IDH1990;\n",
    "DROP Table IF EXISTS VINTEIDH;\n",
    "DROP Table IF EXISTS TuberculoseBrazil;\n",
    "DROP Table IF EXISTS Countries;\n",
    "DROP Table IF EXISTS IDH;\n",
    "DROP Table IF EXISTS Mortality;\n",
    "DROP Table IF EXISTS Sanitation;"
   ]
  },
  {
   "cell_type": "code",
   "execution_count": 99,
   "id": "62d439cf",
   "metadata": {},
   "outputs": [],
   "source": [
    "CREATE TABLE Countries (\n",
    "  Country VARCHAR(50),\n",
    "  Region VARCHAR(50),\n",
    "  Climate VARCHAR(5),\n",
    "  PRIMARY KEY(country)\n",
    ") AS SELECT\n",
    "    country,\n",
    "    Region,\n",
    "    Climate\n",
    "FROM CSVREAD('../data/processed/countries_data.csv');"
   ]
  },
  {
   "cell_type": "code",
   "execution_count": 100,
   "id": "52ac2470",
   "metadata": {},
   "outputs": [],
   "source": [
    "CREATE TABLE Sanitation (\n",
    "  REF_AREA VARCHAR(3),\n",
    "  Country VARCHAR(50) NOT NULL,\n",
    "  INDICATOR VARCHAR(50) NOT NULL,\n",
    "  ServiceType VARCHAR(50),\n",
    "  year INTEGER NOT NULL,\n",
    "  UnitOfMeasure VARCHAR(3),\n",
    "  OBS_VALUE FLOAT,\n",
    "  FOREIGN KEY(Country)\n",
    "    REFERENCES Countries(Country)\n",
    "      ON DELETE NO ACTION\n",
    "      ON UPDATE NO ACTION\n",
    ") AS SELECT\n",
    "    REF_AREA,\n",
    "    Country,\n",
    "    INDICATOR,\n",
    "    ServiceType,\n",
    "    year,\n",
    "    UnitOfMeasure,\n",
    "    OBS_VALUE\n",
    "FROM CSVREAD('../data/processed/sanitation_data.csv');"
   ]
  },
  {
   "cell_type": "code",
   "execution_count": 101,
   "id": "b55cc36e",
   "metadata": {},
   "outputs": [],
   "source": [
    "CREATE TABLE IDH (\n",
    "  country VARCHAR(50) NOT NULL,\n",
    "  HDIRank INTEGER,\n",
    "  year INTEGER NOT NULL,\n",
    "  HDI_VALUE FLOAT,\n",
    "  FOREIGN KEY(country)\n",
    "    REFERENCES Countries(country)\n",
    "      ON DELETE NO ACTION\n",
    "      ON UPDATE NO ACTION,\n",
    ") AS SELECT\n",
    "    country,\n",
    "    HDIRank,\n",
    "    year,\n",
    "    HDI_VALUE\n",
    "FROM CSVREAD('../data/processed/IDH_data.csv');"
   ]
  },
  {
   "cell_type": "code",
   "execution_count": 102,
   "id": "252499e5",
   "metadata": {},
   "outputs": [],
   "source": [
    "CREATE TABLE Mortality(\n",
    "    country VARCHAR(50) NOT NULL,\n",
    "    year INTEGER NOT NULL,\n",
    "    Tuberculosis FLOAT,\n",
    "    Suicide FLOAT,\n",
    "    Drug_disorders FLOAT,\n",
    "    Cardiovascular_diseases FLOAT, \n",
    "    Cancers FLOAT,\n",
    "    Respiratory_diseases FLOAT, \n",
    "    Diabetes FLOAT,\n",
    "    Dementia FLOAT,\n",
    "    Lower_respiratory_infections FLOAT,\n",
    "    Neonatal_deaths FLOAT,\n",
    "    Diarrheal_diseases FLOAT,\n",
    "    Road_accidents FLOAT,\n",
    "    Liver_disease FLOAT,\n",
    "    Kidney_disease FLOAT,\n",
    "    Digestive_diseases FLOAT,\n",
    "    Malaria FLOAT,\n",
    "    Homicide FLOAT,\n",
    "    Nutritional_deficiencies FLOAT,\n",
    "    Meningitis FLOAT,\n",
    "    Drowning FLOAT,\n",
    "    Maternal_deaths FLOAT,\n",
    "    Parkinson_disease FLOAT,\n",
    "    Alcohol_disorders FLOAT,\n",
    "    Intestinal_infectious_diseases FLOAT,\n",
    "    Hepatitis FLOAT, \n",
    "    Fire FLOAT,\n",
    "    Natural_disasters FLOAT,\n",
    "    Conflict FLOAT,\n",
    "    Terrorism FLOAT,\n",
    "    FOREIGN KEY(Country)\n",
    "    REFERENCES Countries(Country)\n",
    "      ON DELETE NO ACTION\n",
    "      ON UPDATE NO ACTION,\n",
    "\n",
    ") AS SELECT\n",
    "    country,\n",
    "    year,\n",
    "    Tuberculosis,\n",
    "    Suicide,\n",
    "    Drug_disorders,\n",
    "    Cardiovascular_diseases, \n",
    "    Cancers,\n",
    "    Respiratory_diseases, \n",
    "    Diabetes,\n",
    "    Dementia,\n",
    "    Lower_respiratory_infections,\n",
    "    Neonatal_deaths,\n",
    "    Diarrheal_diseases,\n",
    "    Road_accidents,\n",
    "    Liver_disease,\n",
    "    Kidney_disease,\n",
    "    Digestive_diseases,\n",
    "    Malaria,\n",
    "    Homicide,\n",
    "    Nutritional_deficiencies,\n",
    "    Meningitis,\n",
    "    Drowning,\n",
    "    Maternal_deaths,\n",
    "    Parkinson_disease,\n",
    "    Alcohol_disorders,\n",
    "    Intestinal_infectious_diseases,\n",
    "    Hepatitis, \n",
    "    Fire,\n",
    "    Natural_disasters,\n",
    "    Conflict,\n",
    "    Terrorism\n",
    "FROM CSVREAD('../data/processed/mortality_data.csv')"
   ]
  },
  {
   "cell_type": "code",
   "execution_count": 103,
   "id": "2533d372",
   "metadata": {},
   "outputs": [
    {
     "data": {
      "application/vnd.code.notebook.error": {
       "message": "INVALID mime type: method. Must be in the format \"type/subtype[;optionalparameter]\"",
       "name": "Error",
       "stack": "Error: INVALID mime type: method. Must be in the format \"type/subtype[;optionalparameter]\"\n\tat new Lt (c:\\Users\\guilh\\AppData\\Local\\Programs\\Microsoft VS Code\\resources\\app\\out\\vs\\workbench\\services\\extensions\\node\\extensionHostProcess.js:87:55757)\n\tat Function.text (c:\\Users\\guilh\\AppData\\Local\\Programs\\Microsoft VS Code\\resources\\app\\out\\vs\\workbench\\services\\extensions\\node\\extensionHostProcess.js:87:56408)\n\tat s (c:\\Users\\guilh\\AppData\\Local\\Programs\\Microsoft VS Code\\resources\\app\\extensions\\ipynb\\dist\\ipynbMain.js:1:143116)\n\tat f (c:\\Users\\guilh\\AppData\\Local\\Programs\\Microsoft VS Code\\resources\\app\\extensions\\ipynb\\dist\\ipynbMain.js:1:143827)\n\tat h (c:\\Users\\guilh\\AppData\\Local\\Programs\\Microsoft VS Code\\resources\\app\\extensions\\ipynb\\dist\\ipynbMain.js:1:144577)\n\tat Array.map (<anonymous>)\n\tat c:\\Users\\guilh\\AppData\\Local\\Programs\\Microsoft VS Code\\resources\\app\\extensions\\ipynb\\dist\\ipynbMain.js:1:145763\n\tat c:\\Users\\guilh\\AppData\\Local\\Programs\\Microsoft VS Code\\resources\\app\\extensions\\ipynb\\dist\\ipynbMain.js:1:146005\n\tat c:\\Users\\guilh\\AppData\\Local\\Programs\\Microsoft VS Code\\resources\\app\\extensions\\ipynb\\dist\\ipynbMain.js:1:146012\n\tat Array.map (<anonymous>)\n\tat e.jupyterNotebookModelToNotebookData (c:\\Users\\guilh\\AppData\\Local\\Programs\\Microsoft VS Code\\resources\\app\\extensions\\ipynb\\dist\\ipynbMain.js:1:145321)\n\tat e.NotebookSerializer.deserializeNotebook (c:\\Users\\guilh\\AppData\\Local\\Programs\\Microsoft VS Code\\resources\\app\\extensions\\ipynb\\dist\\ipynbMain.js:1:147423)\n\tat A.$dataToNotebook (c:\\Users\\guilh\\AppData\\Local\\Programs\\Microsoft VS Code\\resources\\app\\out\\vs\\workbench\\services\\extensions\\node\\extensionHostProcess.js:94:218768)\n\tat n._doInvokeHandler (c:\\Users\\guilh\\AppData\\Local\\Programs\\Microsoft VS Code\\resources\\app\\out\\vs\\workbench\\services\\extensions\\node\\extensionHostProcess.js:98:13802)\n\tat n._invokeHandler (c:\\Users\\guilh\\AppData\\Local\\Programs\\Microsoft VS Code\\resources\\app\\out\\vs\\workbench\\services\\extensions\\node\\extensionHostProcess.js:98:13486)\n\tat n._receiveRequest (c:\\Users\\guilh\\AppData\\Local\\Programs\\Microsoft VS Code\\resources\\app\\out\\vs\\workbench\\services\\extensions\\node\\extensionHostProcess.js:98:12097)\n\tat n._receiveOneMessage (c:\\Users\\guilh\\AppData\\Local\\Programs\\Microsoft VS Code\\resources\\app\\out\\vs\\workbench\\services\\extensions\\node\\extensionHostProcess.js:98:11025)\n\tat c:\\Users\\guilh\\AppData\\Local\\Programs\\Microsoft VS Code\\resources\\app\\out\\vs\\workbench\\services\\extensions\\node\\extensionHostProcess.js:98:8922\n\tat l.fire (c:\\Users\\guilh\\AppData\\Local\\Programs\\Microsoft VS Code\\resources\\app\\out\\vs\\workbench\\services\\extensions\\node\\extensionHostProcess.js:66:1712)\n\tat s.fire (c:\\Users\\guilh\\AppData\\Local\\Programs\\Microsoft VS Code\\resources\\app\\out\\vs\\workbench\\services\\extensions\\node\\extensionHostProcess.js:74:15990)\n\tat c:\\Users\\guilh\\AppData\\Local\\Programs\\Microsoft VS Code\\resources\\app\\out\\vs\\workbench\\services\\extensions\\node\\extensionHostProcess.js:113:30625\n\tat l.fire (c:\\Users\\guilh\\AppData\\Local\\Programs\\Microsoft VS Code\\resources\\app\\out\\vs\\workbench\\services\\extensions\\node\\extensionHostProcess.js:66:1712)\n\tat s.fire (c:\\Users\\guilh\\AppData\\Local\\Programs\\Microsoft VS Code\\resources\\app\\out\\vs\\workbench\\services\\extensions\\node\\extensionHostProcess.js:74:15990)\n\tat f._receiveMessage (c:\\Users\\guilh\\AppData\\Local\\Programs\\Microsoft VS Code\\resources\\app\\out\\vs\\workbench\\services\\extensions\\node\\extensionHostProcess.js:74:21260)\n\tat c:\\Users\\guilh\\AppData\\Local\\Programs\\Microsoft VS Code\\resources\\app\\out\\vs\\workbench\\services\\extensions\\node\\extensionHostProcess.js:74:18138\n\tat l.fire (c:\\Users\\guilh\\AppData\\Local\\Programs\\Microsoft VS Code\\resources\\app\\out\\vs\\workbench\\services\\extensions\\node\\extensionHostProcess.js:66:1712)\n\tat w.acceptChunk (c:\\Users\\guilh\\AppData\\Local\\Programs\\Microsoft VS Code\\resources\\app\\out\\vs\\workbench\\services\\extensions\\node\\extensionHostProcess.js:74:13351)\n\tat c:\\Users\\guilh\\AppData\\Local\\Programs\\Microsoft VS Code\\resources\\app\\out\\vs\\workbench\\services\\extensions\\node\\extensionHostProcess.js:74:12699\n\tat Socket.m (c:\\Users\\guilh\\AppData\\Local\\Programs\\Microsoft VS Code\\resources\\app\\out\\vs\\workbench\\services\\extensions\\node\\extensionHostProcess.js:113:13575)\n\tat Socket.emit (events.js:315:20)\n\tat addChunk (internal/streams/readable.js:309:12)\n\tat readableAddChunk (internal/streams/readable.js:284:9)\n\tat Socket.Readable.push (internal/streams/readable.js:223:10)\n\tat Pipe.onStreamRead (internal/stream_base_commons.js:188:23)"
      },
      "application/vnd.jupyter.widget-view+json": {
       "model_id": "71f532d8-bf22-48c4-af93-d79b676ad96f",
       "version_major": 2,
       "version_minor": 0
      }
     },
     "metadata": {},
     "output_type": "display_data"
    }
   ],
   "source": [
    "SELECT Mortality.country, Mortality.year, Mortality.Tuberculosis, S.OBS_VALUE FROM Mortality, Sanitation S\n",
    "    WHERE Mortality.COUNTRY = 'Brazil' AND Mortality.year = S.year AND S.country = 'Brazil' AND S.INDICATOR = 'WS_PPL_S-ALB'"
   ]
  },
  {
   "cell_type": "code",
   "execution_count": 104,
   "id": "4c7e721f",
   "metadata": {},
   "outputs": [
    {
     "data": {
      "application/vnd.code.notebook.error": {
       "message": "INVALID mime type: method. Must be in the format \"type/subtype[;optionalparameter]\"",
       "name": "Error",
       "stack": "Error: INVALID mime type: method. Must be in the format \"type/subtype[;optionalparameter]\"\n\tat new Lt (c:\\Users\\guilh\\AppData\\Local\\Programs\\Microsoft VS Code\\resources\\app\\out\\vs\\workbench\\services\\extensions\\node\\extensionHostProcess.js:87:55757)\n\tat Function.text (c:\\Users\\guilh\\AppData\\Local\\Programs\\Microsoft VS Code\\resources\\app\\out\\vs\\workbench\\services\\extensions\\node\\extensionHostProcess.js:87:56408)\n\tat s (c:\\Users\\guilh\\AppData\\Local\\Programs\\Microsoft VS Code\\resources\\app\\extensions\\ipynb\\dist\\ipynbMain.js:1:143116)\n\tat f (c:\\Users\\guilh\\AppData\\Local\\Programs\\Microsoft VS Code\\resources\\app\\extensions\\ipynb\\dist\\ipynbMain.js:1:143827)\n\tat h (c:\\Users\\guilh\\AppData\\Local\\Programs\\Microsoft VS Code\\resources\\app\\extensions\\ipynb\\dist\\ipynbMain.js:1:144577)\n\tat Array.map (<anonymous>)\n\tat c:\\Users\\guilh\\AppData\\Local\\Programs\\Microsoft VS Code\\resources\\app\\extensions\\ipynb\\dist\\ipynbMain.js:1:145763\n\tat c:\\Users\\guilh\\AppData\\Local\\Programs\\Microsoft VS Code\\resources\\app\\extensions\\ipynb\\dist\\ipynbMain.js:1:146005\n\tat c:\\Users\\guilh\\AppData\\Local\\Programs\\Microsoft VS Code\\resources\\app\\extensions\\ipynb\\dist\\ipynbMain.js:1:146012\n\tat Array.map (<anonymous>)\n\tat e.jupyterNotebookModelToNotebookData (c:\\Users\\guilh\\AppData\\Local\\Programs\\Microsoft VS Code\\resources\\app\\extensions\\ipynb\\dist\\ipynbMain.js:1:145321)\n\tat e.NotebookSerializer.deserializeNotebook (c:\\Users\\guilh\\AppData\\Local\\Programs\\Microsoft VS Code\\resources\\app\\extensions\\ipynb\\dist\\ipynbMain.js:1:147423)\n\tat A.$dataToNotebook (c:\\Users\\guilh\\AppData\\Local\\Programs\\Microsoft VS Code\\resources\\app\\out\\vs\\workbench\\services\\extensions\\node\\extensionHostProcess.js:94:218768)\n\tat n._doInvokeHandler (c:\\Users\\guilh\\AppData\\Local\\Programs\\Microsoft VS Code\\resources\\app\\out\\vs\\workbench\\services\\extensions\\node\\extensionHostProcess.js:98:13802)\n\tat n._invokeHandler (c:\\Users\\guilh\\AppData\\Local\\Programs\\Microsoft VS Code\\resources\\app\\out\\vs\\workbench\\services\\extensions\\node\\extensionHostProcess.js:98:13486)\n\tat n._receiveRequest (c:\\Users\\guilh\\AppData\\Local\\Programs\\Microsoft VS Code\\resources\\app\\out\\vs\\workbench\\services\\extensions\\node\\extensionHostProcess.js:98:12097)\n\tat n._receiveOneMessage (c:\\Users\\guilh\\AppData\\Local\\Programs\\Microsoft VS Code\\resources\\app\\out\\vs\\workbench\\services\\extensions\\node\\extensionHostProcess.js:98:11025)\n\tat c:\\Users\\guilh\\AppData\\Local\\Programs\\Microsoft VS Code\\resources\\app\\out\\vs\\workbench\\services\\extensions\\node\\extensionHostProcess.js:98:8922\n\tat l.fire (c:\\Users\\guilh\\AppData\\Local\\Programs\\Microsoft VS Code\\resources\\app\\out\\vs\\workbench\\services\\extensions\\node\\extensionHostProcess.js:66:1712)\n\tat s.fire (c:\\Users\\guilh\\AppData\\Local\\Programs\\Microsoft VS Code\\resources\\app\\out\\vs\\workbench\\services\\extensions\\node\\extensionHostProcess.js:74:15990)\n\tat c:\\Users\\guilh\\AppData\\Local\\Programs\\Microsoft VS Code\\resources\\app\\out\\vs\\workbench\\services\\extensions\\node\\extensionHostProcess.js:113:30625\n\tat l.fire (c:\\Users\\guilh\\AppData\\Local\\Programs\\Microsoft VS Code\\resources\\app\\out\\vs\\workbench\\services\\extensions\\node\\extensionHostProcess.js:66:1712)\n\tat s.fire (c:\\Users\\guilh\\AppData\\Local\\Programs\\Microsoft VS Code\\resources\\app\\out\\vs\\workbench\\services\\extensions\\node\\extensionHostProcess.js:74:15990)\n\tat f._receiveMessage (c:\\Users\\guilh\\AppData\\Local\\Programs\\Microsoft VS Code\\resources\\app\\out\\vs\\workbench\\services\\extensions\\node\\extensionHostProcess.js:74:21260)\n\tat c:\\Users\\guilh\\AppData\\Local\\Programs\\Microsoft VS Code\\resources\\app\\out\\vs\\workbench\\services\\extensions\\node\\extensionHostProcess.js:74:18138\n\tat l.fire (c:\\Users\\guilh\\AppData\\Local\\Programs\\Microsoft VS Code\\resources\\app\\out\\vs\\workbench\\services\\extensions\\node\\extensionHostProcess.js:66:1712)\n\tat w.acceptChunk (c:\\Users\\guilh\\AppData\\Local\\Programs\\Microsoft VS Code\\resources\\app\\out\\vs\\workbench\\services\\extensions\\node\\extensionHostProcess.js:74:13351)\n\tat c:\\Users\\guilh\\AppData\\Local\\Programs\\Microsoft VS Code\\resources\\app\\out\\vs\\workbench\\services\\extensions\\node\\extensionHostProcess.js:74:12699\n\tat Socket.m (c:\\Users\\guilh\\AppData\\Local\\Programs\\Microsoft VS Code\\resources\\app\\out\\vs\\workbench\\services\\extensions\\node\\extensionHostProcess.js:113:13575)\n\tat Socket.emit (events.js:315:20)\n\tat addChunk (internal/streams/readable.js:309:12)\n\tat readableAddChunk (internal/streams/readable.js:284:9)\n\tat Socket.Readable.push (internal/streams/readable.js:223:10)\n\tat Pipe.onStreamRead (internal/stream_base_commons.js:188:23)"
      },
      "application/vnd.jupyter.widget-view+json": {
       "model_id": "853d48cd-12ff-492b-be86-7e70d756720f",
       "version_major": 2,
       "version_minor": 0
      }
     },
     "metadata": {},
     "output_type": "display_data"
    }
   ],
   "source": [
    "SELECT * FROM IDH"
   ]
  },
  {
   "cell_type": "code",
   "execution_count": 105,
   "id": "fa7be2fe",
   "metadata": {},
   "outputs": [],
   "source": [
    "CREATE VIEW IDH2016 AS\n",
    "    SELECT country, year, HDI_VALUE FROM IDH\n",
    "        WHERE year = 2016"
   ]
  },
  {
   "cell_type": "code",
   "execution_count": 106,
   "id": "38ac4603",
   "metadata": {},
   "outputs": [],
   "source": [
    "CREATE VIEW IDH1990 AS\n",
    "    SELECT country, year, HDI_VALUE FROM IDH\n",
    "        WHERE year = 1990"
   ]
  },
  {
   "cell_type": "code",
   "execution_count": 107,
   "id": "f84ed8a9",
   "metadata": {},
   "outputs": [],
   "source": [
    "CREATE VIEW variacaoIDH AS\n",
    "    SELECT IDH2016.country, IDH2016.HDI_VALUE/IDH1990.HDI_VALUE as variacao FROM IDH2016, IDH1990\n",
    "        WHERE IDH2016.country = IDH1990.country"
   ]
  },
  {
   "cell_type": "code",
   "execution_count": null,
   "id": "26aa1af4",
   "metadata": {},
   "outputs": [],
   "source": [
    "SELECT country, variacao FROM variacaoIDH\n",
    "    WHERE variacao = (SELECT MAX(variacao) FROM variacaoIDH)"
   ]
  },
  {
   "cell_type": "code",
   "execution_count": 109,
   "id": "5ff0cff3",
   "metadata": {},
   "outputs": [
    {
     "data": {
      "application/vnd.code.notebook.error": {
       "message": "INVALID mime type: method. Must be in the format \"type/subtype[;optionalparameter]\"",
       "name": "Error",
       "stack": "Error: INVALID mime type: method. Must be in the format \"type/subtype[;optionalparameter]\"\n\tat new Lt (c:\\Users\\guilh\\AppData\\Local\\Programs\\Microsoft VS Code\\resources\\app\\out\\vs\\workbench\\services\\extensions\\node\\extensionHostProcess.js:87:55757)\n\tat Function.text (c:\\Users\\guilh\\AppData\\Local\\Programs\\Microsoft VS Code\\resources\\app\\out\\vs\\workbench\\services\\extensions\\node\\extensionHostProcess.js:87:56408)\n\tat s (c:\\Users\\guilh\\AppData\\Local\\Programs\\Microsoft VS Code\\resources\\app\\extensions\\ipynb\\dist\\ipynbMain.js:1:143116)\n\tat f (c:\\Users\\guilh\\AppData\\Local\\Programs\\Microsoft VS Code\\resources\\app\\extensions\\ipynb\\dist\\ipynbMain.js:1:143827)\n\tat h (c:\\Users\\guilh\\AppData\\Local\\Programs\\Microsoft VS Code\\resources\\app\\extensions\\ipynb\\dist\\ipynbMain.js:1:144577)\n\tat Array.map (<anonymous>)\n\tat c:\\Users\\guilh\\AppData\\Local\\Programs\\Microsoft VS Code\\resources\\app\\extensions\\ipynb\\dist\\ipynbMain.js:1:145763\n\tat c:\\Users\\guilh\\AppData\\Local\\Programs\\Microsoft VS Code\\resources\\app\\extensions\\ipynb\\dist\\ipynbMain.js:1:146005\n\tat c:\\Users\\guilh\\AppData\\Local\\Programs\\Microsoft VS Code\\resources\\app\\extensions\\ipynb\\dist\\ipynbMain.js:1:146012\n\tat Array.map (<anonymous>)\n\tat e.jupyterNotebookModelToNotebookData (c:\\Users\\guilh\\AppData\\Local\\Programs\\Microsoft VS Code\\resources\\app\\extensions\\ipynb\\dist\\ipynbMain.js:1:145321)\n\tat e.NotebookSerializer.deserializeNotebook (c:\\Users\\guilh\\AppData\\Local\\Programs\\Microsoft VS Code\\resources\\app\\extensions\\ipynb\\dist\\ipynbMain.js:1:147423)\n\tat A.$dataToNotebook (c:\\Users\\guilh\\AppData\\Local\\Programs\\Microsoft VS Code\\resources\\app\\out\\vs\\workbench\\services\\extensions\\node\\extensionHostProcess.js:94:218768)\n\tat n._doInvokeHandler (c:\\Users\\guilh\\AppData\\Local\\Programs\\Microsoft VS Code\\resources\\app\\out\\vs\\workbench\\services\\extensions\\node\\extensionHostProcess.js:98:13802)\n\tat n._invokeHandler (c:\\Users\\guilh\\AppData\\Local\\Programs\\Microsoft VS Code\\resources\\app\\out\\vs\\workbench\\services\\extensions\\node\\extensionHostProcess.js:98:13486)\n\tat n._receiveRequest (c:\\Users\\guilh\\AppData\\Local\\Programs\\Microsoft VS Code\\resources\\app\\out\\vs\\workbench\\services\\extensions\\node\\extensionHostProcess.js:98:12097)\n\tat n._receiveOneMessage (c:\\Users\\guilh\\AppData\\Local\\Programs\\Microsoft VS Code\\resources\\app\\out\\vs\\workbench\\services\\extensions\\node\\extensionHostProcess.js:98:11025)\n\tat c:\\Users\\guilh\\AppData\\Local\\Programs\\Microsoft VS Code\\resources\\app\\out\\vs\\workbench\\services\\extensions\\node\\extensionHostProcess.js:98:8922\n\tat l.fire (c:\\Users\\guilh\\AppData\\Local\\Programs\\Microsoft VS Code\\resources\\app\\out\\vs\\workbench\\services\\extensions\\node\\extensionHostProcess.js:66:1712)\n\tat s.fire (c:\\Users\\guilh\\AppData\\Local\\Programs\\Microsoft VS Code\\resources\\app\\out\\vs\\workbench\\services\\extensions\\node\\extensionHostProcess.js:74:15990)\n\tat c:\\Users\\guilh\\AppData\\Local\\Programs\\Microsoft VS Code\\resources\\app\\out\\vs\\workbench\\services\\extensions\\node\\extensionHostProcess.js:113:30625\n\tat l.fire (c:\\Users\\guilh\\AppData\\Local\\Programs\\Microsoft VS Code\\resources\\app\\out\\vs\\workbench\\services\\extensions\\node\\extensionHostProcess.js:66:1712)\n\tat s.fire (c:\\Users\\guilh\\AppData\\Local\\Programs\\Microsoft VS Code\\resources\\app\\out\\vs\\workbench\\services\\extensions\\node\\extensionHostProcess.js:74:15990)\n\tat f._receiveMessage (c:\\Users\\guilh\\AppData\\Local\\Programs\\Microsoft VS Code\\resources\\app\\out\\vs\\workbench\\services\\extensions\\node\\extensionHostProcess.js:74:21260)\n\tat c:\\Users\\guilh\\AppData\\Local\\Programs\\Microsoft VS Code\\resources\\app\\out\\vs\\workbench\\services\\extensions\\node\\extensionHostProcess.js:74:18138\n\tat l.fire (c:\\Users\\guilh\\AppData\\Local\\Programs\\Microsoft VS Code\\resources\\app\\out\\vs\\workbench\\services\\extensions\\node\\extensionHostProcess.js:66:1712)\n\tat w.acceptChunk (c:\\Users\\guilh\\AppData\\Local\\Programs\\Microsoft VS Code\\resources\\app\\out\\vs\\workbench\\services\\extensions\\node\\extensionHostProcess.js:74:13351)\n\tat c:\\Users\\guilh\\AppData\\Local\\Programs\\Microsoft VS Code\\resources\\app\\out\\vs\\workbench\\services\\extensions\\node\\extensionHostProcess.js:74:12699\n\tat Socket.m (c:\\Users\\guilh\\AppData\\Local\\Programs\\Microsoft VS Code\\resources\\app\\out\\vs\\workbench\\services\\extensions\\node\\extensionHostProcess.js:113:13575)\n\tat Socket.emit (events.js:315:20)\n\tat addChunk (internal/streams/readable.js:309:12)\n\tat readableAddChunk (internal/streams/readable.js:284:9)\n\tat Socket.Readable.push (internal/streams/readable.js:223:10)\n\tat Pipe.onStreamRead (internal/stream_base_commons.js:188:23)"
      },
      "application/vnd.jupyter.widget-view+json": {
       "model_id": "8bcebdcf-bd31-41b2-8912-f012685a4c64",
       "version_major": 2,
       "version_minor": 0
      }
     },
     "metadata": {},
     "output_type": "display_data"
    }
   ],
   "source": [
    "SELECT * FROM variacaoIDH"
   ]
  },
  {
   "cell_type": "code",
   "execution_count": 110,
   "id": "287a87a6",
   "metadata": {},
   "outputs": [],
   "source": [
    "CREATE VIEW TOPIDH AS\n",
    "    SELECT country, HDI_value FROM IDH\n",
    "    WHERE year = 2016\n",
    "    ORDER BY HDI_value desc"
   ]
  },
  {
   "cell_type": "code",
   "execution_count": 111,
   "id": "9eae37c5",
   "metadata": {},
   "outputs": [],
   "source": [
    "CREATE VIEW TOP20IDH AS \n",
    "    SELECT top 20 * FROM TOPIDH"
   ]
  },
  {
   "cell_type": "code",
   "execution_count": 112,
   "id": "65a0ed6a",
   "metadata": {},
   "outputs": [],
   "source": [
    "CREATE VIEW TOPIDHSUICIDE AS\n",
    "    SELECT TOP20IDH.country, TOP20IDH.HDI_VALUE, M.Suicide FROM TOP20IDH, Mortality M\n",
    "        WHERE TOP20IDH.country = M.country AND M.year = 2016"
   ]
  },
  {
   "cell_type": "code",
   "execution_count": 113,
   "id": "64e64426",
   "metadata": {},
   "outputs": [
    {
     "data": {
      "application/vnd.code.notebook.error": {
       "message": "INVALID mime type: method. Must be in the format \"type/subtype[;optionalparameter]\"",
       "name": "Error",
       "stack": "Error: INVALID mime type: method. Must be in the format \"type/subtype[;optionalparameter]\"\n\tat new Lt (c:\\Users\\guilh\\AppData\\Local\\Programs\\Microsoft VS Code\\resources\\app\\out\\vs\\workbench\\services\\extensions\\node\\extensionHostProcess.js:87:55757)\n\tat Function.text (c:\\Users\\guilh\\AppData\\Local\\Programs\\Microsoft VS Code\\resources\\app\\out\\vs\\workbench\\services\\extensions\\node\\extensionHostProcess.js:87:56408)\n\tat s (c:\\Users\\guilh\\AppData\\Local\\Programs\\Microsoft VS Code\\resources\\app\\extensions\\ipynb\\dist\\ipynbMain.js:1:143116)\n\tat f (c:\\Users\\guilh\\AppData\\Local\\Programs\\Microsoft VS Code\\resources\\app\\extensions\\ipynb\\dist\\ipynbMain.js:1:143827)\n\tat h (c:\\Users\\guilh\\AppData\\Local\\Programs\\Microsoft VS Code\\resources\\app\\extensions\\ipynb\\dist\\ipynbMain.js:1:144577)\n\tat Array.map (<anonymous>)\n\tat c:\\Users\\guilh\\AppData\\Local\\Programs\\Microsoft VS Code\\resources\\app\\extensions\\ipynb\\dist\\ipynbMain.js:1:145763\n\tat c:\\Users\\guilh\\AppData\\Local\\Programs\\Microsoft VS Code\\resources\\app\\extensions\\ipynb\\dist\\ipynbMain.js:1:146005\n\tat c:\\Users\\guilh\\AppData\\Local\\Programs\\Microsoft VS Code\\resources\\app\\extensions\\ipynb\\dist\\ipynbMain.js:1:146012\n\tat Array.map (<anonymous>)\n\tat e.jupyterNotebookModelToNotebookData (c:\\Users\\guilh\\AppData\\Local\\Programs\\Microsoft VS Code\\resources\\app\\extensions\\ipynb\\dist\\ipynbMain.js:1:145321)\n\tat e.NotebookSerializer.deserializeNotebook (c:\\Users\\guilh\\AppData\\Local\\Programs\\Microsoft VS Code\\resources\\app\\extensions\\ipynb\\dist\\ipynbMain.js:1:147423)\n\tat A.$dataToNotebook (c:\\Users\\guilh\\AppData\\Local\\Programs\\Microsoft VS Code\\resources\\app\\out\\vs\\workbench\\services\\extensions\\node\\extensionHostProcess.js:94:218768)\n\tat n._doInvokeHandler (c:\\Users\\guilh\\AppData\\Local\\Programs\\Microsoft VS Code\\resources\\app\\out\\vs\\workbench\\services\\extensions\\node\\extensionHostProcess.js:98:13802)\n\tat n._invokeHandler (c:\\Users\\guilh\\AppData\\Local\\Programs\\Microsoft VS Code\\resources\\app\\out\\vs\\workbench\\services\\extensions\\node\\extensionHostProcess.js:98:13486)\n\tat n._receiveRequest (c:\\Users\\guilh\\AppData\\Local\\Programs\\Microsoft VS Code\\resources\\app\\out\\vs\\workbench\\services\\extensions\\node\\extensionHostProcess.js:98:12097)\n\tat n._receiveOneMessage (c:\\Users\\guilh\\AppData\\Local\\Programs\\Microsoft VS Code\\resources\\app\\out\\vs\\workbench\\services\\extensions\\node\\extensionHostProcess.js:98:11025)\n\tat c:\\Users\\guilh\\AppData\\Local\\Programs\\Microsoft VS Code\\resources\\app\\out\\vs\\workbench\\services\\extensions\\node\\extensionHostProcess.js:98:8922\n\tat l.fire (c:\\Users\\guilh\\AppData\\Local\\Programs\\Microsoft VS Code\\resources\\app\\out\\vs\\workbench\\services\\extensions\\node\\extensionHostProcess.js:66:1712)\n\tat s.fire (c:\\Users\\guilh\\AppData\\Local\\Programs\\Microsoft VS Code\\resources\\app\\out\\vs\\workbench\\services\\extensions\\node\\extensionHostProcess.js:74:15990)\n\tat c:\\Users\\guilh\\AppData\\Local\\Programs\\Microsoft VS Code\\resources\\app\\out\\vs\\workbench\\services\\extensions\\node\\extensionHostProcess.js:113:30625\n\tat l.fire (c:\\Users\\guilh\\AppData\\Local\\Programs\\Microsoft VS Code\\resources\\app\\out\\vs\\workbench\\services\\extensions\\node\\extensionHostProcess.js:66:1712)\n\tat s.fire (c:\\Users\\guilh\\AppData\\Local\\Programs\\Microsoft VS Code\\resources\\app\\out\\vs\\workbench\\services\\extensions\\node\\extensionHostProcess.js:74:15990)\n\tat f._receiveMessage (c:\\Users\\guilh\\AppData\\Local\\Programs\\Microsoft VS Code\\resources\\app\\out\\vs\\workbench\\services\\extensions\\node\\extensionHostProcess.js:74:21260)\n\tat c:\\Users\\guilh\\AppData\\Local\\Programs\\Microsoft VS Code\\resources\\app\\out\\vs\\workbench\\services\\extensions\\node\\extensionHostProcess.js:74:18138\n\tat l.fire (c:\\Users\\guilh\\AppData\\Local\\Programs\\Microsoft VS Code\\resources\\app\\out\\vs\\workbench\\services\\extensions\\node\\extensionHostProcess.js:66:1712)\n\tat w.acceptChunk (c:\\Users\\guilh\\AppData\\Local\\Programs\\Microsoft VS Code\\resources\\app\\out\\vs\\workbench\\services\\extensions\\node\\extensionHostProcess.js:74:13351)\n\tat c:\\Users\\guilh\\AppData\\Local\\Programs\\Microsoft VS Code\\resources\\app\\out\\vs\\workbench\\services\\extensions\\node\\extensionHostProcess.js:74:12699\n\tat Socket.m (c:\\Users\\guilh\\AppData\\Local\\Programs\\Microsoft VS Code\\resources\\app\\out\\vs\\workbench\\services\\extensions\\node\\extensionHostProcess.js:113:13575)\n\tat Socket.emit (events.js:315:20)\n\tat addChunk (internal/streams/readable.js:309:12)\n\tat readableAddChunk (internal/streams/readable.js:284:9)\n\tat Socket.Readable.push (internal/streams/readable.js:223:10)\n\tat Pipe.onStreamRead (internal/stream_base_commons.js:188:23)"
      },
      "application/vnd.jupyter.widget-view+json": {
       "model_id": "d65aedd9-9ca1-47a8-b31e-8995834b5910",
       "version_major": 2,
       "version_minor": 0
      }
     },
     "metadata": {},
     "output_type": "display_data"
    }
   ],
   "source": [
    "SELECT * FROM TOPIDHSUICIDE"
   ]
  },
  {
   "cell_type": "code",
   "execution_count": 114,
   "id": "94a050a4",
   "metadata": {},
   "outputs": [
    {
     "data": {
      "text/plain": [
       "1.3891157886018581"
      ]
     },
     "execution_count": 114,
     "metadata": {},
     "output_type": "execute_result"
    }
   ],
   "source": [
    "SELECT AVG(Suicide) FROM Mortality\n",
    "    WHERE year = 2016"
   ]
  },
  {
   "cell_type": "code",
   "execution_count": 115,
   "id": "85c23d2e",
   "metadata": {},
   "outputs": [
    {
     "data": {
      "application/vnd.code.notebook.error": {
       "message": "INVALID mime type: method. Must be in the format \"type/subtype[;optionalparameter]\"",
       "name": "Error",
       "stack": "Error: INVALID mime type: method. Must be in the format \"type/subtype[;optionalparameter]\"\n\tat new Lt (c:\\Users\\guilh\\AppData\\Local\\Programs\\Microsoft VS Code\\resources\\app\\out\\vs\\workbench\\services\\extensions\\node\\extensionHostProcess.js:87:55757)\n\tat Function.text (c:\\Users\\guilh\\AppData\\Local\\Programs\\Microsoft VS Code\\resources\\app\\out\\vs\\workbench\\services\\extensions\\node\\extensionHostProcess.js:87:56408)\n\tat s (c:\\Users\\guilh\\AppData\\Local\\Programs\\Microsoft VS Code\\resources\\app\\extensions\\ipynb\\dist\\ipynbMain.js:1:143116)\n\tat f (c:\\Users\\guilh\\AppData\\Local\\Programs\\Microsoft VS Code\\resources\\app\\extensions\\ipynb\\dist\\ipynbMain.js:1:143827)\n\tat h (c:\\Users\\guilh\\AppData\\Local\\Programs\\Microsoft VS Code\\resources\\app\\extensions\\ipynb\\dist\\ipynbMain.js:1:144577)\n\tat Array.map (<anonymous>)\n\tat c:\\Users\\guilh\\AppData\\Local\\Programs\\Microsoft VS Code\\resources\\app\\extensions\\ipynb\\dist\\ipynbMain.js:1:145763\n\tat c:\\Users\\guilh\\AppData\\Local\\Programs\\Microsoft VS Code\\resources\\app\\extensions\\ipynb\\dist\\ipynbMain.js:1:146005\n\tat c:\\Users\\guilh\\AppData\\Local\\Programs\\Microsoft VS Code\\resources\\app\\extensions\\ipynb\\dist\\ipynbMain.js:1:146012\n\tat Array.map (<anonymous>)\n\tat e.jupyterNotebookModelToNotebookData (c:\\Users\\guilh\\AppData\\Local\\Programs\\Microsoft VS Code\\resources\\app\\extensions\\ipynb\\dist\\ipynbMain.js:1:145321)\n\tat e.NotebookSerializer.deserializeNotebook (c:\\Users\\guilh\\AppData\\Local\\Programs\\Microsoft VS Code\\resources\\app\\extensions\\ipynb\\dist\\ipynbMain.js:1:147423)\n\tat A.$dataToNotebook (c:\\Users\\guilh\\AppData\\Local\\Programs\\Microsoft VS Code\\resources\\app\\out\\vs\\workbench\\services\\extensions\\node\\extensionHostProcess.js:94:218768)\n\tat n._doInvokeHandler (c:\\Users\\guilh\\AppData\\Local\\Programs\\Microsoft VS Code\\resources\\app\\out\\vs\\workbench\\services\\extensions\\node\\extensionHostProcess.js:98:13802)\n\tat n._invokeHandler (c:\\Users\\guilh\\AppData\\Local\\Programs\\Microsoft VS Code\\resources\\app\\out\\vs\\workbench\\services\\extensions\\node\\extensionHostProcess.js:98:13486)\n\tat n._receiveRequest (c:\\Users\\guilh\\AppData\\Local\\Programs\\Microsoft VS Code\\resources\\app\\out\\vs\\workbench\\services\\extensions\\node\\extensionHostProcess.js:98:12097)\n\tat n._receiveOneMessage (c:\\Users\\guilh\\AppData\\Local\\Programs\\Microsoft VS Code\\resources\\app\\out\\vs\\workbench\\services\\extensions\\node\\extensionHostProcess.js:98:11025)\n\tat c:\\Users\\guilh\\AppData\\Local\\Programs\\Microsoft VS Code\\resources\\app\\out\\vs\\workbench\\services\\extensions\\node\\extensionHostProcess.js:98:8922\n\tat l.fire (c:\\Users\\guilh\\AppData\\Local\\Programs\\Microsoft VS Code\\resources\\app\\out\\vs\\workbench\\services\\extensions\\node\\extensionHostProcess.js:66:1712)\n\tat s.fire (c:\\Users\\guilh\\AppData\\Local\\Programs\\Microsoft VS Code\\resources\\app\\out\\vs\\workbench\\services\\extensions\\node\\extensionHostProcess.js:74:15990)\n\tat c:\\Users\\guilh\\AppData\\Local\\Programs\\Microsoft VS Code\\resources\\app\\out\\vs\\workbench\\services\\extensions\\node\\extensionHostProcess.js:113:30625\n\tat l.fire (c:\\Users\\guilh\\AppData\\Local\\Programs\\Microsoft VS Code\\resources\\app\\out\\vs\\workbench\\services\\extensions\\node\\extensionHostProcess.js:66:1712)\n\tat s.fire (c:\\Users\\guilh\\AppData\\Local\\Programs\\Microsoft VS Code\\resources\\app\\out\\vs\\workbench\\services\\extensions\\node\\extensionHostProcess.js:74:15990)\n\tat f._receiveMessage (c:\\Users\\guilh\\AppData\\Local\\Programs\\Microsoft VS Code\\resources\\app\\out\\vs\\workbench\\services\\extensions\\node\\extensionHostProcess.js:74:21260)\n\tat c:\\Users\\guilh\\AppData\\Local\\Programs\\Microsoft VS Code\\resources\\app\\out\\vs\\workbench\\services\\extensions\\node\\extensionHostProcess.js:74:18138\n\tat l.fire (c:\\Users\\guilh\\AppData\\Local\\Programs\\Microsoft VS Code\\resources\\app\\out\\vs\\workbench\\services\\extensions\\node\\extensionHostProcess.js:66:1712)\n\tat w.acceptChunk (c:\\Users\\guilh\\AppData\\Local\\Programs\\Microsoft VS Code\\resources\\app\\out\\vs\\workbench\\services\\extensions\\node\\extensionHostProcess.js:74:13351)\n\tat c:\\Users\\guilh\\AppData\\Local\\Programs\\Microsoft VS Code\\resources\\app\\out\\vs\\workbench\\services\\extensions\\node\\extensionHostProcess.js:74:12699\n\tat Socket.m (c:\\Users\\guilh\\AppData\\Local\\Programs\\Microsoft VS Code\\resources\\app\\out\\vs\\workbench\\services\\extensions\\node\\extensionHostProcess.js:113:13575)\n\tat Socket.emit (events.js:315:20)\n\tat addChunk (internal/streams/readable.js:309:12)\n\tat readableAddChunk (internal/streams/readable.js:284:9)\n\tat Socket.Readable.push (internal/streams/readable.js:223:10)\n\tat Pipe.onStreamRead (internal/stream_base_commons.js:188:23)"
      },
      "application/vnd.jupyter.widget-view+json": {
       "model_id": "9a5edb28-0e49-415a-ae2e-770a2ed744e7",
       "version_major": 2,
       "version_minor": 0
      }
     },
     "metadata": {},
     "output_type": "display_data"
    }
   ],
   "source": [
    "SELECT M.country, M.year, M.Drug_disorders, IDH.HDI_VALUE FROM Mortality M, IDH\n",
    "    WHERE M.country = 'Brazil' AND IDH.country = 'Brazil' AND IDH.year = M.year"
   ]
  },
  {
   "cell_type": "code",
   "execution_count": 116,
   "id": "af28e380",
   "metadata": {},
   "outputs": [
    {
     "data": {
      "application/vnd.code.notebook.error": {
       "message": "INVALID mime type: method. Must be in the format \"type/subtype[;optionalparameter]\"",
       "name": "Error",
       "stack": "Error: INVALID mime type: method. Must be in the format \"type/subtype[;optionalparameter]\"\n\tat new Lt (c:\\Users\\guilh\\AppData\\Local\\Programs\\Microsoft VS Code\\resources\\app\\out\\vs\\workbench\\services\\extensions\\node\\extensionHostProcess.js:87:55757)\n\tat Function.text (c:\\Users\\guilh\\AppData\\Local\\Programs\\Microsoft VS Code\\resources\\app\\out\\vs\\workbench\\services\\extensions\\node\\extensionHostProcess.js:87:56408)\n\tat s (c:\\Users\\guilh\\AppData\\Local\\Programs\\Microsoft VS Code\\resources\\app\\extensions\\ipynb\\dist\\ipynbMain.js:1:143116)\n\tat f (c:\\Users\\guilh\\AppData\\Local\\Programs\\Microsoft VS Code\\resources\\app\\extensions\\ipynb\\dist\\ipynbMain.js:1:143827)\n\tat h (c:\\Users\\guilh\\AppData\\Local\\Programs\\Microsoft VS Code\\resources\\app\\extensions\\ipynb\\dist\\ipynbMain.js:1:144577)\n\tat Array.map (<anonymous>)\n\tat c:\\Users\\guilh\\AppData\\Local\\Programs\\Microsoft VS Code\\resources\\app\\extensions\\ipynb\\dist\\ipynbMain.js:1:145763\n\tat c:\\Users\\guilh\\AppData\\Local\\Programs\\Microsoft VS Code\\resources\\app\\extensions\\ipynb\\dist\\ipynbMain.js:1:146005\n\tat c:\\Users\\guilh\\AppData\\Local\\Programs\\Microsoft VS Code\\resources\\app\\extensions\\ipynb\\dist\\ipynbMain.js:1:146012\n\tat Array.map (<anonymous>)\n\tat e.jupyterNotebookModelToNotebookData (c:\\Users\\guilh\\AppData\\Local\\Programs\\Microsoft VS Code\\resources\\app\\extensions\\ipynb\\dist\\ipynbMain.js:1:145321)\n\tat e.NotebookSerializer.deserializeNotebook (c:\\Users\\guilh\\AppData\\Local\\Programs\\Microsoft VS Code\\resources\\app\\extensions\\ipynb\\dist\\ipynbMain.js:1:147423)\n\tat A.$dataToNotebook (c:\\Users\\guilh\\AppData\\Local\\Programs\\Microsoft VS Code\\resources\\app\\out\\vs\\workbench\\services\\extensions\\node\\extensionHostProcess.js:94:218768)\n\tat n._doInvokeHandler (c:\\Users\\guilh\\AppData\\Local\\Programs\\Microsoft VS Code\\resources\\app\\out\\vs\\workbench\\services\\extensions\\node\\extensionHostProcess.js:98:13802)\n\tat n._invokeHandler (c:\\Users\\guilh\\AppData\\Local\\Programs\\Microsoft VS Code\\resources\\app\\out\\vs\\workbench\\services\\extensions\\node\\extensionHostProcess.js:98:13486)\n\tat n._receiveRequest (c:\\Users\\guilh\\AppData\\Local\\Programs\\Microsoft VS Code\\resources\\app\\out\\vs\\workbench\\services\\extensions\\node\\extensionHostProcess.js:98:12097)\n\tat n._receiveOneMessage (c:\\Users\\guilh\\AppData\\Local\\Programs\\Microsoft VS Code\\resources\\app\\out\\vs\\workbench\\services\\extensions\\node\\extensionHostProcess.js:98:11025)\n\tat c:\\Users\\guilh\\AppData\\Local\\Programs\\Microsoft VS Code\\resources\\app\\out\\vs\\workbench\\services\\extensions\\node\\extensionHostProcess.js:98:8922\n\tat l.fire (c:\\Users\\guilh\\AppData\\Local\\Programs\\Microsoft VS Code\\resources\\app\\out\\vs\\workbench\\services\\extensions\\node\\extensionHostProcess.js:66:1712)\n\tat s.fire (c:\\Users\\guilh\\AppData\\Local\\Programs\\Microsoft VS Code\\resources\\app\\out\\vs\\workbench\\services\\extensions\\node\\extensionHostProcess.js:74:15990)\n\tat c:\\Users\\guilh\\AppData\\Local\\Programs\\Microsoft VS Code\\resources\\app\\out\\vs\\workbench\\services\\extensions\\node\\extensionHostProcess.js:113:30625\n\tat l.fire (c:\\Users\\guilh\\AppData\\Local\\Programs\\Microsoft VS Code\\resources\\app\\out\\vs\\workbench\\services\\extensions\\node\\extensionHostProcess.js:66:1712)\n\tat s.fire (c:\\Users\\guilh\\AppData\\Local\\Programs\\Microsoft VS Code\\resources\\app\\out\\vs\\workbench\\services\\extensions\\node\\extensionHostProcess.js:74:15990)\n\tat f._receiveMessage (c:\\Users\\guilh\\AppData\\Local\\Programs\\Microsoft VS Code\\resources\\app\\out\\vs\\workbench\\services\\extensions\\node\\extensionHostProcess.js:74:21260)\n\tat c:\\Users\\guilh\\AppData\\Local\\Programs\\Microsoft VS Code\\resources\\app\\out\\vs\\workbench\\services\\extensions\\node\\extensionHostProcess.js:74:18138\n\tat l.fire (c:\\Users\\guilh\\AppData\\Local\\Programs\\Microsoft VS Code\\resources\\app\\out\\vs\\workbench\\services\\extensions\\node\\extensionHostProcess.js:66:1712)\n\tat w.acceptChunk (c:\\Users\\guilh\\AppData\\Local\\Programs\\Microsoft VS Code\\resources\\app\\out\\vs\\workbench\\services\\extensions\\node\\extensionHostProcess.js:74:13351)\n\tat c:\\Users\\guilh\\AppData\\Local\\Programs\\Microsoft VS Code\\resources\\app\\out\\vs\\workbench\\services\\extensions\\node\\extensionHostProcess.js:74:12699\n\tat Socket.m (c:\\Users\\guilh\\AppData\\Local\\Programs\\Microsoft VS Code\\resources\\app\\out\\vs\\workbench\\services\\extensions\\node\\extensionHostProcess.js:113:13575)\n\tat Socket.emit (events.js:315:20)\n\tat addChunk (internal/streams/readable.js:309:12)\n\tat readableAddChunk (internal/streams/readable.js:284:9)\n\tat Socket.Readable.push (internal/streams/readable.js:223:10)\n\tat Pipe.onStreamRead (internal/stream_base_commons.js:188:23)"
      },
      "application/vnd.jupyter.widget-view+json": {
       "model_id": "ea911c80-3e1b-4c6a-a763-794803a2ac21",
       "version_major": 2,
       "version_minor": 0
      }
     },
     "metadata": {},
     "output_type": "display_data"
    }
   ],
   "source": [
    "SELECT * FROM Mortality"
   ]
  },
  {
   "cell_type": "code",
   "execution_count": 117,
   "id": "5c866b18",
   "metadata": {},
   "outputs": [
    {
     "data": {
      "application/vnd.code.notebook.error": {
       "message": "INVALID mime type: method. Must be in the format \"type/subtype[;optionalparameter]\"",
       "name": "Error",
       "stack": "Error: INVALID mime type: method. Must be in the format \"type/subtype[;optionalparameter]\"\n\tat new Lt (c:\\Users\\guilh\\AppData\\Local\\Programs\\Microsoft VS Code\\resources\\app\\out\\vs\\workbench\\services\\extensions\\node\\extensionHostProcess.js:87:55757)\n\tat Function.text (c:\\Users\\guilh\\AppData\\Local\\Programs\\Microsoft VS Code\\resources\\app\\out\\vs\\workbench\\services\\extensions\\node\\extensionHostProcess.js:87:56408)\n\tat s (c:\\Users\\guilh\\AppData\\Local\\Programs\\Microsoft VS Code\\resources\\app\\extensions\\ipynb\\dist\\ipynbMain.js:1:143116)\n\tat f (c:\\Users\\guilh\\AppData\\Local\\Programs\\Microsoft VS Code\\resources\\app\\extensions\\ipynb\\dist\\ipynbMain.js:1:143827)\n\tat h (c:\\Users\\guilh\\AppData\\Local\\Programs\\Microsoft VS Code\\resources\\app\\extensions\\ipynb\\dist\\ipynbMain.js:1:144577)\n\tat Array.map (<anonymous>)\n\tat c:\\Users\\guilh\\AppData\\Local\\Programs\\Microsoft VS Code\\resources\\app\\extensions\\ipynb\\dist\\ipynbMain.js:1:145763\n\tat c:\\Users\\guilh\\AppData\\Local\\Programs\\Microsoft VS Code\\resources\\app\\extensions\\ipynb\\dist\\ipynbMain.js:1:146005\n\tat c:\\Users\\guilh\\AppData\\Local\\Programs\\Microsoft VS Code\\resources\\app\\extensions\\ipynb\\dist\\ipynbMain.js:1:146012\n\tat Array.map (<anonymous>)\n\tat e.jupyterNotebookModelToNotebookData (c:\\Users\\guilh\\AppData\\Local\\Programs\\Microsoft VS Code\\resources\\app\\extensions\\ipynb\\dist\\ipynbMain.js:1:145321)\n\tat e.NotebookSerializer.deserializeNotebook (c:\\Users\\guilh\\AppData\\Local\\Programs\\Microsoft VS Code\\resources\\app\\extensions\\ipynb\\dist\\ipynbMain.js:1:147423)\n\tat A.$dataToNotebook (c:\\Users\\guilh\\AppData\\Local\\Programs\\Microsoft VS Code\\resources\\app\\out\\vs\\workbench\\services\\extensions\\node\\extensionHostProcess.js:94:218768)\n\tat n._doInvokeHandler (c:\\Users\\guilh\\AppData\\Local\\Programs\\Microsoft VS Code\\resources\\app\\out\\vs\\workbench\\services\\extensions\\node\\extensionHostProcess.js:98:13802)\n\tat n._invokeHandler (c:\\Users\\guilh\\AppData\\Local\\Programs\\Microsoft VS Code\\resources\\app\\out\\vs\\workbench\\services\\extensions\\node\\extensionHostProcess.js:98:13486)\n\tat n._receiveRequest (c:\\Users\\guilh\\AppData\\Local\\Programs\\Microsoft VS Code\\resources\\app\\out\\vs\\workbench\\services\\extensions\\node\\extensionHostProcess.js:98:12097)\n\tat n._receiveOneMessage (c:\\Users\\guilh\\AppData\\Local\\Programs\\Microsoft VS Code\\resources\\app\\out\\vs\\workbench\\services\\extensions\\node\\extensionHostProcess.js:98:11025)\n\tat c:\\Users\\guilh\\AppData\\Local\\Programs\\Microsoft VS Code\\resources\\app\\out\\vs\\workbench\\services\\extensions\\node\\extensionHostProcess.js:98:8922\n\tat l.fire (c:\\Users\\guilh\\AppData\\Local\\Programs\\Microsoft VS Code\\resources\\app\\out\\vs\\workbench\\services\\extensions\\node\\extensionHostProcess.js:66:1712)\n\tat s.fire (c:\\Users\\guilh\\AppData\\Local\\Programs\\Microsoft VS Code\\resources\\app\\out\\vs\\workbench\\services\\extensions\\node\\extensionHostProcess.js:74:15990)\n\tat c:\\Users\\guilh\\AppData\\Local\\Programs\\Microsoft VS Code\\resources\\app\\out\\vs\\workbench\\services\\extensions\\node\\extensionHostProcess.js:113:30625\n\tat l.fire (c:\\Users\\guilh\\AppData\\Local\\Programs\\Microsoft VS Code\\resources\\app\\out\\vs\\workbench\\services\\extensions\\node\\extensionHostProcess.js:66:1712)\n\tat s.fire (c:\\Users\\guilh\\AppData\\Local\\Programs\\Microsoft VS Code\\resources\\app\\out\\vs\\workbench\\services\\extensions\\node\\extensionHostProcess.js:74:15990)\n\tat f._receiveMessage (c:\\Users\\guilh\\AppData\\Local\\Programs\\Microsoft VS Code\\resources\\app\\out\\vs\\workbench\\services\\extensions\\node\\extensionHostProcess.js:74:21260)\n\tat c:\\Users\\guilh\\AppData\\Local\\Programs\\Microsoft VS Code\\resources\\app\\out\\vs\\workbench\\services\\extensions\\node\\extensionHostProcess.js:74:18138\n\tat l.fire (c:\\Users\\guilh\\AppData\\Local\\Programs\\Microsoft VS Code\\resources\\app\\out\\vs\\workbench\\services\\extensions\\node\\extensionHostProcess.js:66:1712)\n\tat w.acceptChunk (c:\\Users\\guilh\\AppData\\Local\\Programs\\Microsoft VS Code\\resources\\app\\out\\vs\\workbench\\services\\extensions\\node\\extensionHostProcess.js:74:13351)\n\tat c:\\Users\\guilh\\AppData\\Local\\Programs\\Microsoft VS Code\\resources\\app\\out\\vs\\workbench\\services\\extensions\\node\\extensionHostProcess.js:74:12699\n\tat Socket.m (c:\\Users\\guilh\\AppData\\Local\\Programs\\Microsoft VS Code\\resources\\app\\out\\vs\\workbench\\services\\extensions\\node\\extensionHostProcess.js:113:13575)\n\tat Socket.emit (events.js:315:20)\n\tat addChunk (internal/streams/readable.js:309:12)\n\tat readableAddChunk (internal/streams/readable.js:284:9)\n\tat Socket.Readable.push (internal/streams/readable.js:223:10)\n\tat Pipe.onStreamRead (internal/stream_base_commons.js:188:23)"
      },
      "application/vnd.jupyter.widget-view+json": {
       "model_id": "b7eebf5d-f9b4-4b3d-9f8f-a5b2117b49f9",
       "version_major": 2,
       "version_minor": 0
      }
     },
     "metadata": {},
     "output_type": "display_data"
    }
   ],
   "source": [
    "SELECT * FROM Mortality\n",
    "    WHERE country = 'Mozambique' AND (year = 1990 OR year = 2016)"
   ]
  },
  {
   "cell_type": "code",
   "execution_count": 118,
   "id": "b0159afe",
   "metadata": {},
   "outputs": [],
   "source": [
    "CREATE VIEW DADOSSUICIDIO AS\n",
    "    SELECT C.Region, M.year, AVG(M.Suicide) SuicidioMedio FROM Mortality M, Countries C\n",
    "            WHERE M.country = C.country\n",
    "            GROUP BY (C.Region, M.year)\n",
    "            ORDER BY C.Region"
   ]
  },
  {
   "cell_type": "code",
   "execution_count": 124,
   "id": "49367524",
   "metadata": {},
   "outputs": [
    {
     "data": {
      "application/vnd.code.notebook.error": {
       "message": "INVALID mime type: method. Must be in the format \"type/subtype[;optionalparameter]\"",
       "name": "Error",
       "stack": "Error: INVALID mime type: method. Must be in the format \"type/subtype[;optionalparameter]\"\n\tat new Lt (c:\\Users\\guilh\\AppData\\Local\\Programs\\Microsoft VS Code\\resources\\app\\out\\vs\\workbench\\services\\extensions\\node\\extensionHostProcess.js:87:55757)\n\tat Function.text (c:\\Users\\guilh\\AppData\\Local\\Programs\\Microsoft VS Code\\resources\\app\\out\\vs\\workbench\\services\\extensions\\node\\extensionHostProcess.js:87:56408)\n\tat s (c:\\Users\\guilh\\AppData\\Local\\Programs\\Microsoft VS Code\\resources\\app\\extensions\\ipynb\\dist\\ipynbMain.js:1:143116)\n\tat f (c:\\Users\\guilh\\AppData\\Local\\Programs\\Microsoft VS Code\\resources\\app\\extensions\\ipynb\\dist\\ipynbMain.js:1:143827)\n\tat h (c:\\Users\\guilh\\AppData\\Local\\Programs\\Microsoft VS Code\\resources\\app\\extensions\\ipynb\\dist\\ipynbMain.js:1:144577)\n\tat Array.map (<anonymous>)\n\tat c:\\Users\\guilh\\AppData\\Local\\Programs\\Microsoft VS Code\\resources\\app\\extensions\\ipynb\\dist\\ipynbMain.js:1:145763\n\tat c:\\Users\\guilh\\AppData\\Local\\Programs\\Microsoft VS Code\\resources\\app\\extensions\\ipynb\\dist\\ipynbMain.js:1:146005\n\tat c:\\Users\\guilh\\AppData\\Local\\Programs\\Microsoft VS Code\\resources\\app\\extensions\\ipynb\\dist\\ipynbMain.js:1:146012\n\tat Array.map (<anonymous>)\n\tat e.jupyterNotebookModelToNotebookData (c:\\Users\\guilh\\AppData\\Local\\Programs\\Microsoft VS Code\\resources\\app\\extensions\\ipynb\\dist\\ipynbMain.js:1:145321)\n\tat e.NotebookSerializer.deserializeNotebook (c:\\Users\\guilh\\AppData\\Local\\Programs\\Microsoft VS Code\\resources\\app\\extensions\\ipynb\\dist\\ipynbMain.js:1:147423)\n\tat A.$dataToNotebook (c:\\Users\\guilh\\AppData\\Local\\Programs\\Microsoft VS Code\\resources\\app\\out\\vs\\workbench\\services\\extensions\\node\\extensionHostProcess.js:94:218768)\n\tat n._doInvokeHandler (c:\\Users\\guilh\\AppData\\Local\\Programs\\Microsoft VS Code\\resources\\app\\out\\vs\\workbench\\services\\extensions\\node\\extensionHostProcess.js:98:13802)\n\tat n._invokeHandler (c:\\Users\\guilh\\AppData\\Local\\Programs\\Microsoft VS Code\\resources\\app\\out\\vs\\workbench\\services\\extensions\\node\\extensionHostProcess.js:98:13486)\n\tat n._receiveRequest (c:\\Users\\guilh\\AppData\\Local\\Programs\\Microsoft VS Code\\resources\\app\\out\\vs\\workbench\\services\\extensions\\node\\extensionHostProcess.js:98:12097)\n\tat n._receiveOneMessage (c:\\Users\\guilh\\AppData\\Local\\Programs\\Microsoft VS Code\\resources\\app\\out\\vs\\workbench\\services\\extensions\\node\\extensionHostProcess.js:98:11025)\n\tat c:\\Users\\guilh\\AppData\\Local\\Programs\\Microsoft VS Code\\resources\\app\\out\\vs\\workbench\\services\\extensions\\node\\extensionHostProcess.js:98:8922\n\tat l.fire (c:\\Users\\guilh\\AppData\\Local\\Programs\\Microsoft VS Code\\resources\\app\\out\\vs\\workbench\\services\\extensions\\node\\extensionHostProcess.js:66:1712)\n\tat s.fire (c:\\Users\\guilh\\AppData\\Local\\Programs\\Microsoft VS Code\\resources\\app\\out\\vs\\workbench\\services\\extensions\\node\\extensionHostProcess.js:74:15990)\n\tat c:\\Users\\guilh\\AppData\\Local\\Programs\\Microsoft VS Code\\resources\\app\\out\\vs\\workbench\\services\\extensions\\node\\extensionHostProcess.js:113:30625\n\tat l.fire (c:\\Users\\guilh\\AppData\\Local\\Programs\\Microsoft VS Code\\resources\\app\\out\\vs\\workbench\\services\\extensions\\node\\extensionHostProcess.js:66:1712)\n\tat s.fire (c:\\Users\\guilh\\AppData\\Local\\Programs\\Microsoft VS Code\\resources\\app\\out\\vs\\workbench\\services\\extensions\\node\\extensionHostProcess.js:74:15990)\n\tat f._receiveMessage (c:\\Users\\guilh\\AppData\\Local\\Programs\\Microsoft VS Code\\resources\\app\\out\\vs\\workbench\\services\\extensions\\node\\extensionHostProcess.js:74:21260)\n\tat c:\\Users\\guilh\\AppData\\Local\\Programs\\Microsoft VS Code\\resources\\app\\out\\vs\\workbench\\services\\extensions\\node\\extensionHostProcess.js:74:18138\n\tat l.fire (c:\\Users\\guilh\\AppData\\Local\\Programs\\Microsoft VS Code\\resources\\app\\out\\vs\\workbench\\services\\extensions\\node\\extensionHostProcess.js:66:1712)\n\tat w.acceptChunk (c:\\Users\\guilh\\AppData\\Local\\Programs\\Microsoft VS Code\\resources\\app\\out\\vs\\workbench\\services\\extensions\\node\\extensionHostProcess.js:74:13351)\n\tat c:\\Users\\guilh\\AppData\\Local\\Programs\\Microsoft VS Code\\resources\\app\\out\\vs\\workbench\\services\\extensions\\node\\extensionHostProcess.js:74:12699\n\tat Socket.m (c:\\Users\\guilh\\AppData\\Local\\Programs\\Microsoft VS Code\\resources\\app\\out\\vs\\workbench\\services\\extensions\\node\\extensionHostProcess.js:113:13575)\n\tat Socket.emit (events.js:315:20)\n\tat addChunk (internal/streams/readable.js:309:12)\n\tat readableAddChunk (internal/streams/readable.js:284:9)\n\tat Socket.Readable.push (internal/streams/readable.js:223:10)\n\tat Pipe.onStreamRead (internal/stream_base_commons.js:188:23)"
      },
      "application/vnd.jupyter.widget-view+json": {
       "model_id": "dd49344b-f58b-424e-958c-b6e8f6ef615f",
       "version_major": 2,
       "version_minor": 0
      }
     },
     "metadata": {},
     "output_type": "display_data"
    }
   ],
   "source": [
    "SELECT * FROM DADOSSUICIDIO\n",
    " ORDER BY Region"
   ]
  },
  {
   "cell_type": "code",
   "execution_count": 123,
   "id": "ece4f994",
   "metadata": {},
   "outputs": [
    {
     "data": {
      "application/vnd.code.notebook.error": {
       "message": "INVALID mime type: method. Must be in the format \"type/subtype[;optionalparameter]\"",
       "name": "Error",
       "stack": "Error: INVALID mime type: method. Must be in the format \"type/subtype[;optionalparameter]\"\n\tat new Lt (c:\\Users\\guilh\\AppData\\Local\\Programs\\Microsoft VS Code\\resources\\app\\out\\vs\\workbench\\services\\extensions\\node\\extensionHostProcess.js:87:55757)\n\tat Function.text (c:\\Users\\guilh\\AppData\\Local\\Programs\\Microsoft VS Code\\resources\\app\\out\\vs\\workbench\\services\\extensions\\node\\extensionHostProcess.js:87:56408)\n\tat s (c:\\Users\\guilh\\AppData\\Local\\Programs\\Microsoft VS Code\\resources\\app\\extensions\\ipynb\\dist\\ipynbMain.js:1:143116)\n\tat f (c:\\Users\\guilh\\AppData\\Local\\Programs\\Microsoft VS Code\\resources\\app\\extensions\\ipynb\\dist\\ipynbMain.js:1:143827)\n\tat h (c:\\Users\\guilh\\AppData\\Local\\Programs\\Microsoft VS Code\\resources\\app\\extensions\\ipynb\\dist\\ipynbMain.js:1:144577)\n\tat Array.map (<anonymous>)\n\tat c:\\Users\\guilh\\AppData\\Local\\Programs\\Microsoft VS Code\\resources\\app\\extensions\\ipynb\\dist\\ipynbMain.js:1:145763\n\tat c:\\Users\\guilh\\AppData\\Local\\Programs\\Microsoft VS Code\\resources\\app\\extensions\\ipynb\\dist\\ipynbMain.js:1:146005\n\tat c:\\Users\\guilh\\AppData\\Local\\Programs\\Microsoft VS Code\\resources\\app\\extensions\\ipynb\\dist\\ipynbMain.js:1:146012\n\tat Array.map (<anonymous>)\n\tat e.jupyterNotebookModelToNotebookData (c:\\Users\\guilh\\AppData\\Local\\Programs\\Microsoft VS Code\\resources\\app\\extensions\\ipynb\\dist\\ipynbMain.js:1:145321)\n\tat e.NotebookSerializer.deserializeNotebook (c:\\Users\\guilh\\AppData\\Local\\Programs\\Microsoft VS Code\\resources\\app\\extensions\\ipynb\\dist\\ipynbMain.js:1:147423)\n\tat A.$dataToNotebook (c:\\Users\\guilh\\AppData\\Local\\Programs\\Microsoft VS Code\\resources\\app\\out\\vs\\workbench\\services\\extensions\\node\\extensionHostProcess.js:94:218768)\n\tat n._doInvokeHandler (c:\\Users\\guilh\\AppData\\Local\\Programs\\Microsoft VS Code\\resources\\app\\out\\vs\\workbench\\services\\extensions\\node\\extensionHostProcess.js:98:13802)\n\tat n._invokeHandler (c:\\Users\\guilh\\AppData\\Local\\Programs\\Microsoft VS Code\\resources\\app\\out\\vs\\workbench\\services\\extensions\\node\\extensionHostProcess.js:98:13486)\n\tat n._receiveRequest (c:\\Users\\guilh\\AppData\\Local\\Programs\\Microsoft VS Code\\resources\\app\\out\\vs\\workbench\\services\\extensions\\node\\extensionHostProcess.js:98:12097)\n\tat n._receiveOneMessage (c:\\Users\\guilh\\AppData\\Local\\Programs\\Microsoft VS Code\\resources\\app\\out\\vs\\workbench\\services\\extensions\\node\\extensionHostProcess.js:98:11025)\n\tat c:\\Users\\guilh\\AppData\\Local\\Programs\\Microsoft VS Code\\resources\\app\\out\\vs\\workbench\\services\\extensions\\node\\extensionHostProcess.js:98:8922\n\tat l.fire (c:\\Users\\guilh\\AppData\\Local\\Programs\\Microsoft VS Code\\resources\\app\\out\\vs\\workbench\\services\\extensions\\node\\extensionHostProcess.js:66:1712)\n\tat s.fire (c:\\Users\\guilh\\AppData\\Local\\Programs\\Microsoft VS Code\\resources\\app\\out\\vs\\workbench\\services\\extensions\\node\\extensionHostProcess.js:74:15990)\n\tat c:\\Users\\guilh\\AppData\\Local\\Programs\\Microsoft VS Code\\resources\\app\\out\\vs\\workbench\\services\\extensions\\node\\extensionHostProcess.js:113:30625\n\tat l.fire (c:\\Users\\guilh\\AppData\\Local\\Programs\\Microsoft VS Code\\resources\\app\\out\\vs\\workbench\\services\\extensions\\node\\extensionHostProcess.js:66:1712)\n\tat s.fire (c:\\Users\\guilh\\AppData\\Local\\Programs\\Microsoft VS Code\\resources\\app\\out\\vs\\workbench\\services\\extensions\\node\\extensionHostProcess.js:74:15990)\n\tat f._receiveMessage (c:\\Users\\guilh\\AppData\\Local\\Programs\\Microsoft VS Code\\resources\\app\\out\\vs\\workbench\\services\\extensions\\node\\extensionHostProcess.js:74:21260)\n\tat c:\\Users\\guilh\\AppData\\Local\\Programs\\Microsoft VS Code\\resources\\app\\out\\vs\\workbench\\services\\extensions\\node\\extensionHostProcess.js:74:18138\n\tat l.fire (c:\\Users\\guilh\\AppData\\Local\\Programs\\Microsoft VS Code\\resources\\app\\out\\vs\\workbench\\services\\extensions\\node\\extensionHostProcess.js:66:1712)\n\tat w.acceptChunk (c:\\Users\\guilh\\AppData\\Local\\Programs\\Microsoft VS Code\\resources\\app\\out\\vs\\workbench\\services\\extensions\\node\\extensionHostProcess.js:74:13351)\n\tat c:\\Users\\guilh\\AppData\\Local\\Programs\\Microsoft VS Code\\resources\\app\\out\\vs\\workbench\\services\\extensions\\node\\extensionHostProcess.js:74:12699\n\tat Socket.m (c:\\Users\\guilh\\AppData\\Local\\Programs\\Microsoft VS Code\\resources\\app\\out\\vs\\workbench\\services\\extensions\\node\\extensionHostProcess.js:113:13575)\n\tat Socket.emit (events.js:315:20)\n\tat addChunk (internal/streams/readable.js:309:12)\n\tat readableAddChunk (internal/streams/readable.js:284:9)\n\tat Socket.Readable.push (internal/streams/readable.js:223:10)\n\tat Pipe.onStreamRead (internal/stream_base_commons.js:188:23)"
      },
      "application/vnd.jupyter.widget-view+json": {
       "model_id": "9ae411a4-98a6-478c-af24-9bc602a010c4",
       "version_major": 2,
       "version_minor": 0
      }
     },
     "metadata": {},
     "output_type": "display_data"
    }
   ],
   "source": [
    "SELECT D1.Region FROM DADOSSUICIDIO D1\n",
    "    WHERE D1.year = 2016 AND D1.SUICIDIOMEDIO > (SELECT D2.SUICIDIOMEDIO FROM DADOSSUICIDIO D2 WHERE D2.year = 1990 AND D1.Region = D2.Region)"
   ]
  },
  {
   "cell_type": "code",
   "execution_count": null,
   "id": "9472a52f",
   "metadata": {},
   "outputs": [],
   "source": []
  }
 ],
 "metadata": {
  "kernelspec": {
   "display_name": "SQL",
   "language": "SQL",
   "name": "sql"
  },
  "language_info": {
   "codemirror_mode": "sql",
   "file_extension": ".sql",
   "mimetype": "",
   "name": "SQL",
   "nbconverter_exporter": "",
   "version": ""
  }
 },
 "nbformat": 4,
 "nbformat_minor": 5
}
