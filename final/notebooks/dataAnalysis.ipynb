{
 "cells": [
  {
   "cell_type": "code",
   "execution_count": 31,
   "metadata": {},
   "outputs": [],
   "source": [
    "import numpy as np\n",
    "import matplotlib.pyplot as plt\n",
    "import pandas as pd"
   ]
  },
  {
   "cell_type": "markdown",
   "metadata": {},
   "source": [
    "Vamos utilizar o método do mínimos quadrados para gerar uma reta que melhor descreve o comportamento (IDH x tempo). Para isso, será necessário implementar o algoritmo de gauss que resolve um sistema linear para encontrar os coeficientes A e B, tais que:\n",
    "y = Ax + B"
   ]
  },
  {
   "cell_type": "code",
   "execution_count": 32,
   "metadata": {},
   "outputs": [],
   "source": [
    "\n",
    "def gauss(A, b):\n",
    "\n",
    "  A_ant = [row[:] for row in A]\n",
    "  b_ant = b.copy()\n",
    "\n",
    "  for k in range(len(A)-1):\n",
    "\n",
    "    for i in range(k+1, len(A)):\n",
    "      \n",
    "      m_ik = A_ant[i][k]/A_ant[k][k]\n",
    "      b_i = b_ant[i] - m_ik*b_ant[k]\n",
    "      b_ant[i] = b_i\n",
    "\n",
    "      for j in range(k, len(A)):\n",
    "\n",
    "        a_ij = A_ant[i][j] - m_ik*A_ant[k][j]\n",
    "        A_ant[i][j] = a_ij\n",
    "      \n",
    "\n",
    "  return (A_ant, b_ant)\n",
    "\n",
    "def triangulo_sup(A, b):\n",
    "  \n",
    "  n = len(A)-1\n",
    "  x = [0]*len(A)\n",
    "  if (A[n][n] !=0 ):\n",
    "    x[n] = b[n]/A[n][n]\n",
    "  k = n \n",
    "\n",
    "  while (k >= 1):\n",
    "    k -= 1\n",
    "    soma = b[k]\n",
    "    j = k\n",
    "    while (j < n):\n",
    "      j += 1 \n",
    "      soma -= A[k][j]*x[j]\n",
    "    \n",
    "    x[k] = soma/A[k][k]\n",
    "\n",
    "  return (x)\n",
    "\n",
    "def linear_solve(A, b):\n",
    "  (A_result, b_result) = gauss(A,b)\n",
    "  solution = triangulo_sup(A_result, b_result)\n",
    "  return solution"
   ]
  },
  {
   "cell_type": "code",
   "execution_count": 33,
   "metadata": {},
   "outputs": [],
   "source": [
    "def g(num, x):\n",
    "  if (num == 0):\n",
    "    return 1\n",
    "  if (num == 1):\n",
    "    return x\n",
    "\n",
    "def getA(x, y, n):\n",
    " \n",
    "  A = np.zeros((n, n), dtype=np.float64)\n",
    "\n",
    "  for i in range(n):\n",
    "\n",
    "    for j in range(n):\n",
    "\n",
    "      a_ij = 0\n",
    "\n",
    "      for m in range(len(x)):\n",
    "\n",
    "        a_ij += g(i, x[m])*g(j, x[m])\n",
    "      \n",
    "      A[i][j] = a_ij\n",
    "\n",
    "  return A\n",
    "\n",
    "def getB(x, y, n):\n",
    "\n",
    "  B = [0]*n\n",
    "\n",
    "  for i in range(n):\n",
    "\n",
    "    b_i = 0\n",
    "\n",
    "    for m in range(len(y)):\n",
    "      \n",
    "      b_i += g(i, x[m])*y[m]\n",
    "\n",
    "    B[i] = b_i\n",
    "  \n",
    "  return B"
   ]
  },
  {
   "cell_type": "code",
   "execution_count": 34,
   "metadata": {},
   "outputs": [
    {
     "name": "stdout",
     "output_type": "stream",
     "text": [
      "Solução: \n",
      "Coeficiente linear (B):  -19.31221469270665\n",
      "Coeficiente angulas (A):  0.00995543345542944\n"
     ]
    }
   ],
   "source": [
    "IDH_data = pd.read_csv('../data/processed/IDH_data.csv')\n",
    "\n",
    "data_filtered = IDH_data[\"country\"] == 'China'\n",
    "\n",
    "china_data = IDH_data[data_filtered]\n",
    "y = china_data[\"HDI_VALUE\"].to_numpy()\n",
    "x = china_data[\"year\"].to_numpy()\n",
    "\n",
    "A = getA(x, y, 2)\n",
    "B = getB(x, y, 2)\n",
    "\n",
    "alpha = linear_solve(A, B)\n",
    "\n",
    "print(\"Solução: \")\n",
    "print(\"Coeficiente linear (B): \", alpha[0])\n",
    "print(\"Coeficiente angulas (A): \", alpha[1])"
   ]
  },
  {
   "cell_type": "markdown",
   "metadata": {},
   "source": [
    "Agora, vamos prever valores de IDH para os anos de 2017, 2018 e 2019. Para isso, basta utilizar a equação da reta já obtida. Além disso, a fim de analisar a acurácia do modelo, comparamos com os dados reais de IDH desses anos e indicamos seu erro relativo."
   ]
  },
  {
   "cell_type": "code",
   "execution_count": 35,
   "metadata": {},
   "outputs": [
    {
     "name": "stdout",
     "output_type": "stream",
     "text": [
      "   year  IDH_real  IDH_previsto  erro_relativo\n",
      "0  2017     0.750         0.768       0.024000\n",
      "1  2018     0.755         0.778       0.030464\n",
      "2  2019     0.761         0.798       0.048620\n"
     ]
    },
    {
     "data": {
      "image/png": "[encoded data removed]",
      "text/plain": [
       "<Figure size 432x288 with 1 Axes>"
      ]
     },
     "metadata": {
      "needs_background": "light"
     },
     "output_type": "display_data"
    }
   ],
   "source": [
    "x_aprox = np.linspace(1990, 2016, 200)\n",
    "y_aprox = np.zeros_like(x_aprox)\n",
    "y_aprox += alpha[0] + alpha[1]*x_aprox\n",
    "\n",
    "ano = 2017\n",
    "previstos = []\n",
    "reais = [0.750, 0.755, 0.761]\n",
    "erros = []\n",
    "\n",
    "for i in range(3):\n",
    "  ano += i\n",
    "  valor_previsto = round(alpha[0] + alpha[1]*ano, 3)\n",
    "  previstos.append(valor_previsto)\n",
    "  erros.append(abs(valor_previsto - reais[i])/reais[i])\n",
    "\n",
    "d = {'year': [2017, 2018, 2019], 'IDH_real': reais, 'IDH_previsto': previstos, 'erro_relativo': erros}\n",
    "df = pd.DataFrame(data=d)\n",
    "\n",
    "print(df)\n",
    "\n",
    "plt.plot(x, y, 'ro')\n",
    "plt.plot(x_aprox, y_aprox)\n",
    "plt.title('IDH China')\n",
    "plt.xlabel('anos')\n",
    "plt.ylabel('IDH')\n",
    "plt.show()"
   ]
  }
 ],
 "metadata": {
  "interpreter": {
   "hash": "a71856d88d933ad805de33fd5e2f3fa716cfb47e1e33f64bb2518265417a048a"
  },
  "kernelspec": {
   "display_name": "Python 3.7.9 64-bit",
   "language": "python",
   "name": "python3"
  },
  "language_info": {
   "codemirror_mode": {
    "name": "ipython",
    "version": 3
   },
   "file_extension": ".py",
   "mimetype": "text/x-python",
   "name": "python",
   "nbconvert_exporter": "python",
   "pygments_lexer": "ipython3",
   "version": "3.7.9"
  },
  "orig_nbformat": 4
 },
 "nbformat": 4,
 "nbformat_minor": 2
}
