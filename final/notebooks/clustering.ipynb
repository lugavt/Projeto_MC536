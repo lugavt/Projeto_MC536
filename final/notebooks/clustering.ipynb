{
 "cells": [
  {
   "cell_type": "code",
   "execution_count": 6,
   "metadata": {},
   "outputs": [],
   "source": [
    "import numpy as np\n",
    "import matplotlib.pyplot as plt\n",
    "import pandas as pd\n",
    "from sklearn.mixture import BayesianGaussianMixture"
   ]
  },
  {
   "cell_type": "code",
   "execution_count": 7,
   "metadata": {},
   "outputs": [],
   "source": [
    "idh = pd.read_csv('../data/processed/IDH_data.csv')\n",
    "mortality = pd.read_csv('../data/processed/mortality_data.csv')\n",
    "sanitation = pd.read_csv('../data/processed/sanitation_data.csv')"
   ]
  },
  {
   "cell_type": "markdown",
   "metadata": {},
   "source": [
    "Inicialmente filtramos os dados para o ano de 2016. Após isso, selecionamos apenas dados de países que contenham todos os dados de saneamento. Assim, impedimos a ausência de algum parâmetro na aplicação da clustering."
   ]
  },
  {
   "cell_type": "code",
   "execution_count": 8,
   "metadata": {},
   "outputs": [],
   "source": [
    "idh16=idh.loc[idh['year'] == 2016]\n",
    "mortality16=mortality.loc[mortality['year'] == 2016]\n",
    "sanitation16=sanitation.loc[sanitation['year'] == 2016]\n",
    "\n",
    "sanitation_majority = sanitation16.loc[sanitation16['Indicator'].eq('Proportion of population using at least basic sanitation services') | sanitation16['Indicator'].eq('Proportion of population using at least basic drinking water services')\n",
    "  | sanitation16['Indicator'].eq('Proportion of population practising open defecation')]\n",
    "\n",
    "aux = sanitation_majority.groupby('country').Indicator.agg(['count'])\n",
    "\n",
    "countries = aux.loc[aux['count']==3].index.to_numpy()\n",
    "\n",
    "data = []\n",
    "for countrie in countries:\n",
    "  countrie_stats = []\n",
    "  countrie_stats.append(countrie)\n",
    "  countrie_stats.append(sanitation16.loc[sanitation16['country'].eq(countrie) & sanitation16['Indicator'].eq('Proportion of population using at least basic sanitation services')]['OBS_VALUE'].to_numpy()[0]  )  \n",
    "  countrie_stats.append(sanitation16.loc[sanitation16['country'].eq(countrie) & sanitation16['Indicator'].eq('Proportion of population using at least basic drinking water services')]['OBS_VALUE'].to_numpy()[0]  )\n",
    "  countrie_stats.append(sanitation16.loc[sanitation16['country'].eq(countrie) & sanitation16['Indicator'].eq('Proportion of population practising open defecation')]['OBS_VALUE'].to_numpy()[0]  )\n",
    "  data.append(countrie_stats)\n",
    "\n",
    "columns = ['country', 'Proportion of population using at least basic sanitation services','Proportion of population using at least basic drinking water services','Proportion of population practising open defecation']\n",
    "df = pd.DataFrame(data = data, columns=columns)"
   ]
  },
  {
   "cell_type": "markdown",
   "metadata": {},
   "source": [
    "Com os dados prontos, vamos executar o modelo de clustering e analisar como ocorre o agrupamento dos países."
   ]
  },
  {
   "cell_type": "code",
   "execution_count": 9,
   "metadata": {},
   "outputs": [
    {
     "name": "stdout",
     "output_type": "stream",
     "text": [
      "\n",
      "cluster 1:\n",
      "0            Afghanistan\n",
      "3         American Samoa\n",
      "5                 Angola\n",
      "13            Bangladesh\n",
      "25               Burundi\n",
      "27              Cameroon\n",
      "34               Comoros\n",
      "39              Djibouti\n",
      "45     Equatorial Guinea\n",
      "48              Ethiopia\n",
      "54                 Gabon\n",
      "57                 Ghana\n",
      "65                Guinea\n",
      "66         Guinea-Bissau\n",
      "68                 Haiti\n",
      "82                 Kenya\n",
      "95                Malawi\n",
      "98                  Mali\n",
      "107             Mongolia\n",
      "109              Morocco\n",
      "110           Mozambique\n",
      "112                Nauru\n",
      "117            Nicaragua\n",
      "119              Nigeria\n",
      "122             Pakistan\n",
      "125     Papua New Guinea\n",
      "134               Rwanda\n",
      "140              Senegal\n",
      "143         Sierra Leone\n",
      "148              Somalia\n",
      "152                Sudan\n",
      "156           Tajikistan\n",
      "164               Uganda\n",
      "171              Vanuatu\n",
      "173                Yemen\n",
      "174               Zambia\n",
      "175             Zimbabwe\n",
      "Name: country, dtype: object\n",
      "\n",
      "cluster 0:\n",
      "1                   Albania\n",
      "2                   Algeria\n",
      "4                   Andorra\n",
      "6                  Anguilla\n",
      "7                   Armenia\n",
      "               ...         \n",
      "166    United Arab Emirates\n",
      "167          United Kingdom\n",
      "168           United States\n",
      "169                 Uruguay\n",
      "170              Uzbekistan\n",
      "Name: country, Length: 109, dtype: object\n",
      "\n",
      "cluster 3:\n",
      "18               Benin\n",
      "24        Burkina Faso\n",
      "26            Cambodia\n",
      "30                Chad\n",
      "46             Eritrea\n",
      "72               India\n",
      "83            Kiribati\n",
      "88             Lesotho\n",
      "89             Liberia\n",
      "94          Madagascar\n",
      "102         Mauritania\n",
      "111            Namibia\n",
      "113              Nepal\n",
      "118              Niger\n",
      "147    Solomon Islands\n",
      "158               Togo\n",
      "Name: country, dtype: object\n",
      "\n",
      "cluster 4:\n",
      "20                Bhutan\n",
      "21              Botswana\n",
      "40              Dominica\n",
      "64             Guatemala\n",
      "69              Honduras\n",
      "73             Indonesia\n",
      "100     Marshall Islands\n",
      "127                 Peru\n",
      "128          Philippines\n",
      "133              Romania\n",
      "135          Saint Lucia\n",
      "149         South Africa\n",
      "163               Tuvalu\n",
      "172    Wallis and Futuna\n",
      "Name: country, dtype: object\n"
     ]
    }
   ],
   "source": [
    "bgm = BayesianGaussianMixture(n_components = 20, n_init = 10)\n",
    "bgm.fit(df.drop(columns=['country']))\n",
    "\n",
    "predictions = bgm.predict(df.drop(columns=['country']))\n",
    "\n",
    "coluna = ['cluster']\n",
    "df_cluster = pd.DataFrame(data = predictions, columns=coluna)\n",
    "\n",
    "final_df = df.join(df_cluster)\n",
    "\n",
    "clusters_possiveis = final_df['cluster'].unique()\n",
    "for cluster in clusters_possiveis:\n",
    "  print('\\ncluster '+ str(cluster)+':')\n",
    "  print(final_df.loc[final_df['cluster'] == cluster]['country'])"
   ]
  },
  {
   "cell_type": "markdown",
   "metadata": {},
   "source": [
    "Com as clusters definidas, podemos analisar a diferença entre as medianas de cada indicador de saneamento básico e notar suas diferenças. Assim, é possível perceber de modo geral os indicadores de cada grupo."
   ]
  },
  {
   "cell_type": "code",
   "execution_count": 10,
   "metadata": {},
   "outputs": [
    {
     "name": "stdout",
     "output_type": "stream",
     "text": [
      "cluster 1:\n",
      "Proportion of population using at least basic sanitation services:  42.99559\n",
      "Proportion of population using at least basic drinking water services:  64.468964\n",
      "Proportion of population practising open defecation  13.260993\n",
      "cluster 0:\n",
      "Proportion of population using at least basic sanitation services:  97.724113\n",
      "Proportion of population using at least basic drinking water services:  99.187973\n",
      "Proportion of population practising open defecation  0.0\n",
      "cluster 3:\n",
      "Proportion of population using at least basic sanitation services:  26.4891825\n",
      "Proportion of population using at least basic drinking water services:  68.68840800000001\n",
      "Proportion of population practising open defecation  43.966120000000004\n",
      "cluster 4:\n",
      "Proportion of population using at least basic sanitation services:  78.30978\n",
      "Proportion of population using at least basic drinking water services:  93.124565\n",
      "Proportion of population practising open defecation  6.02069925\n"
     ]
    }
   ],
   "source": [
    "clusters_possiveis = final_df['cluster'].unique()\n",
    "\n",
    "for cluster in clusters_possiveis:\n",
    "  p_cluster = final_df.loc[final_df['cluster'] == cluster]['country'].values\n",
    "  df_cluster = final_df.loc[final_df['country'].isin(p_cluster)]\n",
    "  print('cluster ' + str(cluster)+':')\n",
    "  print('Proportion of population using at least basic sanitation services: ', df_cluster['Proportion of population using at least basic sanitation services'].median())\n",
    "  print('Proportion of population using at least basic drinking water services: ', df_cluster['Proportion of population using at least basic drinking water services'].median())\n",
    "  print('Proportion of population practising open defecation ', df_cluster['Proportion of population practising open defecation'].median())"
   ]
  }
 ],
 "metadata": {
  "interpreter": {
   "hash": "a71856d88d933ad805de33fd5e2f3fa716cfb47e1e33f64bb2518265417a048a"
  },
  "kernelspec": {
   "display_name": "Python 3.7.9 64-bit",
   "language": "python",
   "name": "python3"
  },
  "language_info": {
   "codemirror_mode": {
    "name": "ipython",
    "version": 3
   },
   "file_extension": ".py",
   "mimetype": "text/x-python",
   "name": "python",
   "nbconvert_exporter": "python",
   "pygments_lexer": "ipython3",
   "version": "3.7.9"
  },
  "orig_nbformat": 4
 },
 "nbformat": 4,
 "nbformat_minor": 2
}
