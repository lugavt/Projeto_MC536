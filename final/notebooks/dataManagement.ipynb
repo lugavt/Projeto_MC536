{
 "cells": [
  {
   "cell_type": "code",
   "execution_count": 2,
   "metadata": {},
   "outputs": [],
   "source": [
    "import pandas as pd\n",
    "import numpy as np\n",
    "import requests\n",
    "import io"
   ]
  },
  {
   "cell_type": "markdown",
   "metadata": {},
   "source": [
    "Inicialmente, extraímos os dados. A tabela de saneamento básico será extraída via requisição por API e as demais estão em arquivos csv"
   ]
  },
  {
   "cell_type": "code",
   "execution_count": 3,
   "metadata": {},
   "outputs": [],
   "source": [
    "def getSanitationData():\n",
    "\n",
    "    url = \"https://sdmx.data.unicef.org/ws/public/sdmxapi/rest/data/UNICEF,WASH_HOUSEHOLDS,1.0/.WS_PPL_H-B+WS_PPL_S-ALB+WS_PPL_S-SM+WS_PPL_W-ALB+WS_PPL_W-SM+WS_PPS_S-OD..._T?format=csv&labels=both\"\n",
    "    data = requests.get(url).content\n",
    "    csv = pd.read_csv(io.StringIO(data.decode(\"utf-8\")))\n",
    "    csv.to_csv(r\"../data/external/sanitation_data\")\n",
    "\n",
    "    return csv"
   ]
  },
  {
   "cell_type": "markdown",
   "metadata": {},
   "source": [
    "Ao instanciar as tabelas, já tratamos algumas inconsistências. Como padronizar os nomes de algumas colunas, retirar colunas não necessárias para o nosso dataset e tratar de dados nulos e uniformizar a nálise temporal de 1990 à 2016."
   ]
  },
  {
   "cell_type": "code",
   "execution_count": 4,
   "metadata": {},
   "outputs": [],
   "source": [
    "sanitation_data = getSanitationData()\n",
    "\n",
    "def handleCountryNameIDH(country):\n",
    "    return country[1:]\n",
    "\n",
    "def handleCountryNameCountry(country):\n",
    "    return country[:-1]\n",
    "\n",
    "country_data = pd.read_csv('../data/external/countries of the world.csv')\n",
    "country_data = country_data[['Country','Region','Climate']]\n",
    "country_data[\"Country\"] = country_data[\"Country\"].map(handleCountryNameCountry)\n",
    "country_data.to_csv(r'../data/interim/country_data.csv')\n",
    "\n",
    "IDH_data = pd.read_csv(\"../data/external/Human Development Index.csv\")\n",
    "IDH_data.drop( [\"2017\"], axis = 1, inplace = True )\n",
    "IDH_data[\"Country\"] = IDH_data[\"Country\"].map(handleCountryNameIDH)\n",
    "IDH_data.rename({'Country':'country', 'HDI Rank':'HDIRank'}, axis=1, inplace=True)\n",
    "IDH_data.to_csv(r'../data/interim/IDH_data.csv')\n",
    "\n",
    "sanitation_data.rename({'Geographic area': 'country', 'TIME_PERIOD':'year', 'Service Type':'ServiceType', 'Unit of measure':'UnitOfMeasure'}, axis=1, inplace=True)\n",
    "sanitation_data = sanitation_data[['REF_AREA','country','INDICATOR','Indicator','ServiceType','year', 'UnitOfMeasure', 'OBS_VALUE']]\n",
    "sanitation_data.drop(sanitation_data[sanitation_data.year > 2016].index, inplace=True)\n",
    "sanitation_data.to_csv(r\"../data/interim/sanitation_data.csv\")\n",
    "\n",
    "mortality_data = pd.read_excel('../data/external/global_mortality.xlsx')\n",
    "\n",
    "mortality_data.rename(columns=lambda x: x.replace(' (%)', ''), inplace=True)\n",
    "mortality_data.rename(columns=lambda x: x.replace(' ', '_'), inplace=True)\n"
   ]
  },
  {
   "cell_type": "markdown",
   "metadata": {},
   "source": [
    "Agora, vamos filtrar os dados de modo que a coluna país de cada tabela (saneamento, mortalidade e IDH) seja uma chave estrangeira para a tabela central de países."
   ]
  },
  {
   "cell_type": "code",
   "execution_count": 5,
   "metadata": {},
   "outputs": [
    {
     "name": "stderr",
     "output_type": "stream",
     "text": [
      "C:\\Users\\guilh\\AppData\\Local\\Programs\\Python\\Python37\\lib\\site-packages\\ipykernel_launcher.py:26: SettingWithCopyWarning: \n",
      "A value is trying to be set on a copy of a slice from a DataFrame\n",
      "\n",
      "See the caveats in the documentation: https://pandas.pydata.org/pandas-docs/stable/user_guide/indexing.html#returning-a-view-versus-a-copy\n"
     ]
    }
   ],
   "source": [
    "for country in IDH_data[\"country\"]:\n",
    "    \n",
    "    if (country not in country_data[\"Country\"].to_numpy()):\n",
    "\n",
    "        filtered_data = IDH_data[\"country\"] != country\n",
    "        IDH_data = IDH_data[filtered_data]\n",
    "        \n",
    "for country in sanitation_data[\"country\"].unique():\n",
    "    \n",
    "    if (country not in country_data[\"Country\"].to_numpy()):\n",
    "    \n",
    "        filtered_data = sanitation_data[\"country\"] != country\n",
    "        sanitation_data = sanitation_data[filtered_data]\n",
    "\n",
    "for country in mortality_data[\"country\"].unique():\n",
    "\n",
    "    if (country not in country_data[\"Country\"].to_numpy()):\n",
    "\n",
    "        filtered_data = mortality_data[\"country\"] != country\n",
    "        mortality_data = mortality_data[filtered_data]\n",
    "\n",
    "#criar uma coluna year e transformar as informações de IDH para esse modelo\n",
    "newIDH_data = pd.melt(IDH_data.reset_index(), id_vars=['HDIRank', 'country'], var_name='year', value_name='HDI_VALUE')\n",
    "IDH_data = newIDH_data[newIDH_data.year.str.contains(\"index\") == False]\n",
    "\n",
    "IDH_data.dropna(subset = [\"HDI_VALUE\"], inplace=True)"
   ]
  },
  {
   "cell_type": "markdown",
   "metadata": {},
   "source": [
    "Por fim, vamos exportar os arquivos alterados para a pasta processed"
   ]
  },
  {
   "cell_type": "code",
   "execution_count": 6,
   "metadata": {},
   "outputs": [],
   "source": [
    "sanitation_data.to_csv(r'../data/processed/sanitation_data.csv')\n",
    "\n",
    "IDH_data.to_csv(r'../data/processed/IDH_data.csv')\n",
    "\n",
    "mortality_data.to_csv(r'../data/processed/mortality_data.csv')\n",
    "\n",
    "country_data.to_csv(r'../data/processed/countries_data.csv')"
   ]
  }
 ],
 "metadata": {
  "interpreter": {
   "hash": "a71856d88d933ad805de33fd5e2f3fa716cfb47e1e33f64bb2518265417a048a"
  },
  "kernelspec": {
   "display_name": "Python 3.7.9 64-bit",
   "language": "python",
   "name": "python3"
  },
  "language_info": {
   "codemirror_mode": {
    "name": "ipython",
    "version": 3
   },
   "file_extension": ".py",
   "mimetype": "text/x-python",
   "name": "python",
   "nbconvert_exporter": "python",
   "pygments_lexer": "ipython3",
   "version": "3.7.9"
  },
  "orig_nbformat": 4
 },
 "nbformat": 4,
 "nbformat_minor": 2
}
