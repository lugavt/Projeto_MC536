{
 "cells": [
  {
   "cell_type": "code",
   "execution_count": 3,
   "metadata": {},
   "outputs": [],
   "source": [
    "import numpy as np\n",
    "from sklearn import linear_model\n",
    "import pandas as pd\n",
    "from sklearn.model_selection import train_test_split"
   ]
  },
  {
   "cell_type": "markdown",
   "metadata": {},
   "source": [
    "A análise em questão visa identificar uma relação linear de proporcionalidade entre os valores de saneamento básico e IDH com os dados de mortalidade por tuberculose. Para isso, iremos utilizar as seguintes informações:\n",
    "- Proportion of population using at least basic sanitation services\n",
    "- Proportion of population using at least basic drinking water services\n",
    "- IDH\n",
    "- Tuberculosis\n",
    "A partir desses dados, iremos realizar uma regressão linear em que Y representa os valores de mortalidade por tuberculose e X os indicadores restantes.\n",
    "Com os coeficientes definidos, será possível perceber qual dos indicadores possui maior relevância na determinação das mortes por tuberculose. Isto é, aquele que acompanha um coeficiente de maior valor absoluto, possui maior influência na mortalidade."
   ]
  },
  {
   "cell_type": "code",
   "execution_count": 4,
   "metadata": {},
   "outputs": [],
   "source": [
    "IDH_data = pd.read_csv('../data/processed/IDH_data.csv')\n",
    "sanitation_data = pd.read_csv('../data/processed/sanitation_data.csv')\n",
    "country_data = pd.read_csv('../data/processed/countries_data.csv')\n",
    "mortality_data = pd.read_csv('../data/processed/mortality_data.csv')"
   ]
  },
  {
   "cell_type": "markdown",
   "metadata": {},
   "source": [
    "Primeiramente devemos tratar dos dados. É necessário verificar que todos os dados utilizados estejam completos, ou seja, que haja valores não nulos para todos os indicadores analisados. Após isso, basta coletar as informações de cada país nos anos disponíveis."
   ]
  },
  {
   "cell_type": "code",
   "execution_count": 5,
   "metadata": {},
   "outputs": [],
   "source": [
    "mortality_data = mortality_data.loc[mortality_data['year'] >= 2000]\n",
    "\n",
    "IDH_data = IDH_data.loc[IDH_data['year'] >= 2000]\n",
    "\n",
    "x = []\n",
    "y = []\n",
    "\n",
    "for country in country_data['Country']:\n",
    "\n",
    "    m_data = mortality_data.loc[(mortality_data['country'] == country)]\n",
    "\n",
    "    idh_data = IDH_data.loc[IDH_data['country'] == country]\n",
    "    \n",
    "    soap_data = sanitation_data.loc[(sanitation_data['country'] == country) & (sanitation_data['INDICATOR'] == 'WS_PPL_S-ALB')]\n",
    "    #Proportion of population using at least basic sanitation services\n",
    "\n",
    "    water_data = sanitation_data.loc[(sanitation_data['country'] == country) & (sanitation_data['INDICATOR'] == 'WS_PPL_W-ALB')]\n",
    "    #Proportion of population using at least basic drinking water services\n",
    "\n",
    "    validated_years = [] #vetor que salva os anos que contém valores de soap e water\n",
    "\n",
    "    for year in m_data['year']:\n",
    "\n",
    "        if ((year in soap_data['year'].to_numpy()) & (year in water_data['year'].to_numpy()) & (year in idh_data['year'].to_numpy())):\n",
    "\n",
    "            validated_years.append(year)\n",
    "\n",
    "    #print(validated_years)\n",
    "    for year in validated_years:\n",
    "        \n",
    "        idh_value = idh_data.loc[idh_data['year'] == year]\n",
    "        soap_value = soap_data.loc[soap_data['year'] == year]\n",
    "        water_value = water_data.loc[water_data['year'] == year]\n",
    "\n",
    "        row = [idh_value['HDI_VALUE'].values[0], soap_value['OBS_VALUE'].values[0]/100, water_value['OBS_VALUE'].values[0]/100]\n",
    "        #dividimos por cem pois está em porcentagem\n",
    "        x.append(row)\n",
    "\n",
    "        mortality_value = m_data.loc[m_data['year'] == year] \n",
    "        y.append(mortality_value['Tuberculosis'].values[0])"
   ]
  },
  {
   "cell_type": "markdown",
   "metadata": {},
   "source": [
    "Agora, vamos inserir os dados no modelo e analisar sua acurácia"
   ]
  },
  {
   "cell_type": "code",
   "execution_count": 6,
   "metadata": {},
   "outputs": [
    {
     "name": "stdout",
     "output_type": "stream",
     "text": [
      "Coeficientes:  [-4.61155195 -2.38153482 -1.91703712]\n",
      "Intersecção:  8.311102119916312\n",
      "Variância:  0.5460660701790819\n"
     ]
    }
   ],
   "source": [
    "x_train, x_test, y_train, y_test = train_test_split(x, y, test_size=0.2)\n",
    "\n",
    "regr = linear_model.LinearRegression()\n",
    "regr.fit(x_train, y_train)\n",
    "\n",
    "print('Coeficientes: ', regr.coef_)\n",
    "print('Intersecção: ', regr.intercept_)\n",
    "\n",
    "print('Variância: ', regr.score(x_test, y_test))"
   ]
  }
 ],
 "metadata": {
  "interpreter": {
   "hash": "a71856d88d933ad805de33fd5e2f3fa716cfb47e1e33f64bb2518265417a048a"
  },
  "kernelspec": {
   "display_name": "Python 3.7.9 64-bit",
   "language": "python",
   "name": "python3"
  },
  "language_info": {
   "codemirror_mode": {
    "name": "ipython",
    "version": 3
   },
   "file_extension": ".py",
   "mimetype": "text/x-python",
   "name": "python",
   "nbconvert_exporter": "python",
   "pygments_lexer": "ipython3",
   "version": "3.7.9"
  },
  "orig_nbformat": 4
 },
 "nbformat": 4,
 "nbformat_minor": 2
}
